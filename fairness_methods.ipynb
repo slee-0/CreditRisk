{
 "cells": [
  {
   "cell_type": "markdown",
   "metadata": {},
   "source": [
    "# Measuring Fairness and Addressing Model Bias"
   ]
  },
  {
   "cell_type": "code",
   "execution_count": 2,
   "metadata": {},
   "outputs": [],
   "source": [
    "import pandas as pd\n",
    "import numpy as np\n",
    "import matplotlib.pyplot as plt\n",
    "import seaborn as sns\n",
    "\n",
    "from sklearn.model_selection import train_test_split\n",
    "from sklearn.model_selection import GridSearchCV\n",
    "from sklearn.model_selection import train_test_split\n",
    "from sklearn.preprocessing import OrdinalEncoder, StandardScaler\n",
    "from sklearn.compose import ColumnTransformer\n",
    "from sklearn.feature_selection import SelectKBest, f_classif\n",
    "\n",
    "from sklearn.pipeline import Pipeline\n",
    "from sklearn.metrics import confusion_matrix, ConfusionMatrixDisplay, roc_auc_score\n",
    "\n",
    "import xgboost\n",
    "from xgboost.sklearn import XGBClassifier\n",
    "\n",
    "import aif360"
   ]
  },
  {
   "cell_type": "code",
   "execution_count": 3,
   "metadata": {},
   "outputs": [],
   "source": [
    "pd.set_option('display.max_columns', 200)"
   ]
  },
  {
   "cell_type": "markdown",
   "metadata": {},
   "source": [
    "## Create binary classes for each protected feature"
   ]
  },
  {
   "cell_type": "code",
   "execution_count": 4,
   "metadata": {},
   "outputs": [],
   "source": [
    "train_main = pd.read_csv('data/application_train.csv', na_values=['','XNA','XAP'])"
   ]
  },
  {
   "cell_type": "code",
   "execution_count": 5,
   "metadata": {},
   "outputs": [
    {
     "data": {
      "text/plain": [
       "(307509, 122)"
      ]
     },
     "execution_count": 5,
     "metadata": {},
     "output_type": "execute_result"
    }
   ],
   "source": [
    "# missing value treatment\n",
    "train_main = train_main[train_main['NAME_FAMILY_STATUS'] != 'Unknown']\n",
    "train_main.shape"
   ]
  },
  {
   "cell_type": "code",
   "execution_count": 6,
   "metadata": {},
   "outputs": [
    {
     "name": "stdout",
     "output_type": "stream",
     "text": [
      "F    202447\n",
      "M    105058\n",
      "Name: CODE_GENDER, dtype: int64\n"
     ]
    },
    {
     "data": {
      "text/plain": [
       "CODE_GENDER\n",
       "F    0.069994\n",
       "M    0.101420\n",
       "Name: TARGET, dtype: float64"
      ]
     },
     "execution_count": 6,
     "metadata": {},
     "output_type": "execute_result"
    }
   ],
   "source": [
    "print(train_main['CODE_GENDER'].value_counts())\n",
    "train_main.groupby(['CODE_GENDER'])['TARGET'].mean()"
   ]
  },
  {
   "cell_type": "code",
   "execution_count": 7,
   "metadata": {},
   "outputs": [
    {
     "data": {
      "text/plain": [
       "0    202451\n",
       "1    105058\n",
       "Name: IsMale, dtype: int64"
      ]
     },
     "execution_count": 7,
     "metadata": {},
     "output_type": "execute_result"
    }
   ],
   "source": [
    "# binary ordinal encoding of gender\n",
    "train_main['IsMale'] = train_main['CODE_GENDER'].map(lambda x: 1 if x=='M' else 0)\n",
    "train_main['IsMale'].value_counts()"
   ]
  },
  {
   "cell_type": "code",
   "execution_count": 8,
   "metadata": {},
   "outputs": [
    {
     "data": {
      "text/plain": [
       "CODE_GENDER\n",
       "F    0.069994\n",
       "M    0.101420\n",
       "Name: TARGET, dtype: float64"
      ]
     },
     "execution_count": 8,
     "metadata": {},
     "output_type": "execute_result"
    }
   ],
   "source": [
    "train_main.groupby(['CODE_GENDER'])['TARGET'].mean()"
   ]
  },
  {
   "cell_type": "code",
   "execution_count": 9,
   "metadata": {},
   "outputs": [
    {
     "name": "stdout",
     "output_type": "stream",
     "text": [
      "Married                 196432\n",
      "Single / not married     45444\n",
      "Civil marriage           29775\n",
      "Separated                19770\n",
      "Widow                    16088\n",
      "Name: NAME_FAMILY_STATUS, dtype: int64\n"
     ]
    },
    {
     "data": {
      "text/plain": [
       "NAME_FAMILY_STATUS\n",
       "Civil marriage          0.099446\n",
       "Married                 0.075599\n",
       "Separated               0.081942\n",
       "Single / not married    0.098077\n",
       "Widow                   0.058242\n",
       "Name: TARGET, dtype: float64"
      ]
     },
     "execution_count": 9,
     "metadata": {},
     "output_type": "execute_result"
    }
   ],
   "source": [
    "print(train_main['NAME_FAMILY_STATUS'].value_counts())\n",
    "train_main.groupby(['NAME_FAMILY_STATUS'])['TARGET'].mean()"
   ]
  },
  {
   "cell_type": "markdown",
   "metadata": {},
   "source": [
    "This shows that male is the group more likely to get unfavorable outcome."
   ]
  },
  {
   "cell_type": "code",
   "execution_count": 13,
   "metadata": {},
   "outputs": [
    {
     "data": {
      "text/plain": [
       "0    245977\n",
       "1     61532\n",
       "Name: IsSingle, dtype: int64"
      ]
     },
     "execution_count": 13,
     "metadata": {},
     "output_type": "execute_result"
    }
   ],
   "source": [
    "# binary ordinal encoding of family status\n",
    "train_main['IsSingle'] = train_main['NAME_FAMILY_STATUS'].map(\n",
    "    lambda x: 1 if x in [\"Single / not married\", \"Widow\"] else 0)\n",
    "train_main['IsSingle'].value_counts()"
   ]
  },
  {
   "cell_type": "code",
   "execution_count": 11,
   "metadata": {},
   "outputs": [
    {
     "data": {
      "text/plain": [
       "IsSingle\n",
       "0    0.081971\n",
       "1    0.058242\n",
       "Name: TARGET, dtype: float64"
      ]
     },
     "execution_count": 11,
     "metadata": {},
     "output_type": "execute_result"
    }
   ],
   "source": [
    "train_main.groupby(['IsSingle'])['TARGET'].mean()"
   ]
  },
  {
   "cell_type": "code",
   "execution_count": 15,
   "metadata": {},
   "outputs": [
    {
     "data": {
      "text/plain": [
       "0    262488\n",
       "1     45021\n",
       "Name: IsYoung, dtype: int64"
      ]
     },
     "execution_count": 15,
     "metadata": {},
     "output_type": "execute_result"
    }
   ],
   "source": [
    "# binary ordinal encoding of age into <= 30 and >30\n",
    "train_main['Age'] = -train_main['DAYS_BIRTH']/365\n",
    "\n",
    "train_main['IsYoung'] = train_main['Age'].map(lambda x: 1 if x <= 30 else 0)\n",
    "train_main['IsYoung'].value_counts()"
   ]
  },
  {
   "cell_type": "code",
   "execution_count": 16,
   "metadata": {},
   "outputs": [
    {
     "data": {
      "text/plain": [
       "IsYoung\n",
       "0    0.074925\n",
       "1    0.114569\n",
       "Name: TARGET, dtype: float64"
      ]
     },
     "execution_count": 16,
     "metadata": {},
     "output_type": "execute_result"
    }
   ],
   "source": [
    "train_main.groupby(['IsYoung'])['TARGET'].mean()"
   ]
  },
  {
   "cell_type": "code",
   "execution_count": 17,
   "metadata": {},
   "outputs": [
    {
     "data": {
      "text/plain": [
       "(307509, 122)"
      ]
     },
     "execution_count": 17,
     "metadata": {},
     "output_type": "execute_result"
    }
   ],
   "source": [
    "# drop original columns\n",
    "train_main = train_main.drop(columns=['CODE_GENDER','NAME_FAMILY_STATUS','DAYS_BIRTH','Age'])\n",
    "train_main.shape"
   ]
  },
  {
   "cell_type": "code",
   "execution_count": 18,
   "metadata": {},
   "outputs": [
    {
     "data": {
      "text/plain": [
       "(167732, 73)"
      ]
     },
     "execution_count": 18,
     "metadata": {},
     "output_type": "execute_result"
    }
   ],
   "source": [
    "# data cleaning\n",
    "# remove columns with more than 100000 missing values\n",
    "na_sum = train_main.isna().sum().sort_values(ascending=False)\n",
    "drop_cols = na_sum[na_sum>100000]\n",
    "train_data = train_main.drop(columns=drop_cols.index)\n",
    "\n",
    "# drop rows with missing values\n",
    "train_data.dropna(inplace=True)\n",
    "\n",
    "# convert object datatype to categorical datatype\n",
    "train_data[train_data.select_dtypes(['object']).columns] = train_data.select_dtypes(['object']).apply(lambda x: x.astype('category'))\n",
    "\n",
    "train_data.shape"
   ]
  },
  {
   "cell_type": "code",
   "execution_count": 19,
   "metadata": {},
   "outputs": [],
   "source": [
    "# convert binary variables to categorical datatype\n",
    "binary_cols = ['CNT_CHILDREN','FLAG_MOBIL','FLAG_EMP_PHONE','FLAG_WORK_PHONE','FLAG_CONT_MOBILE','FLAG_PHONE','FLAG_EMAIL']\n",
    "flag_cols = [col for col in train_data .columns if 'FLAG_DOCUMENT_' in col]\n",
    "binary_cols.extend(flag_cols)\n",
    "\n",
    "train_data[binary_cols] = train_data[binary_cols].astype('category')"
   ]
  },
  {
   "cell_type": "code",
   "execution_count": 20,
   "metadata": {},
   "outputs": [],
   "source": [
    "# place the protected features and the target variable at the end of the dataset\n",
    "y = train_data['TARGET']\n",
    "X_train_data = train_data.drop(columns=['SK_ID_CURR','IsSingle','IsMale','IsYoung','TARGET'])\n",
    "protected_cols = ['IsSingle','IsMale','IsYoung','TARGET']\n",
    "protected = train_data[protected_cols]"
   ]
  },
  {
   "cell_type": "code",
   "execution_count": 21,
   "metadata": {},
   "outputs": [],
   "source": [
    "numeric_features = X_train_data.select_dtypes(['int64','float64']).columns\n",
    "numeric_transformer = Pipeline(\n",
    "    steps=[(\"scaler\", StandardScaler())]\n",
    ")\n",
    "\n",
    "categorical_features = X_train_data.select_dtypes(['category']).columns\n",
    "categorical_transformer = Pipeline(\n",
    "    steps=[\n",
    "        (\"encoder\", OrdinalEncoder())\n",
    "    ]\n",
    ")"
   ]
  },
  {
   "cell_type": "code",
   "execution_count": 100,
   "metadata": {},
   "outputs": [
    {
     "data": {
      "text/html": [
       "<div>\n",
       "<style scoped>\n",
       "    .dataframe tbody tr th:only-of-type {\n",
       "        vertical-align: middle;\n",
       "    }\n",
       "\n",
       "    .dataframe tbody tr th {\n",
       "        vertical-align: top;\n",
       "    }\n",
       "\n",
       "    .dataframe thead th {\n",
       "        text-align: right;\n",
       "    }\n",
       "</style>\n",
       "<table border=\"1\" class=\"dataframe\">\n",
       "  <thead>\n",
       "    <tr style=\"text-align: right;\">\n",
       "      <th></th>\n",
       "      <th>NAME_CONTRACT_TYPE</th>\n",
       "      <th>FLAG_OWN_CAR</th>\n",
       "      <th>FLAG_OWN_REALTY</th>\n",
       "      <th>CNT_CHILDREN</th>\n",
       "      <th>AMT_INCOME_TOTAL</th>\n",
       "      <th>AMT_CREDIT</th>\n",
       "      <th>AMT_ANNUITY</th>\n",
       "      <th>AMT_GOODS_PRICE</th>\n",
       "      <th>NAME_TYPE_SUITE</th>\n",
       "      <th>NAME_INCOME_TYPE</th>\n",
       "      <th>NAME_EDUCATION_TYPE</th>\n",
       "      <th>NAME_HOUSING_TYPE</th>\n",
       "      <th>REGION_POPULATION_RELATIVE</th>\n",
       "      <th>DAYS_EMPLOYED</th>\n",
       "      <th>DAYS_REGISTRATION</th>\n",
       "      <th>DAYS_ID_PUBLISH</th>\n",
       "      <th>FLAG_MOBIL</th>\n",
       "      <th>FLAG_EMP_PHONE</th>\n",
       "      <th>FLAG_WORK_PHONE</th>\n",
       "      <th>FLAG_CONT_MOBILE</th>\n",
       "      <th>FLAG_PHONE</th>\n",
       "      <th>FLAG_EMAIL</th>\n",
       "      <th>OCCUPATION_TYPE</th>\n",
       "      <th>CNT_FAM_MEMBERS</th>\n",
       "      <th>REGION_RATING_CLIENT</th>\n",
       "      <th>REGION_RATING_CLIENT_W_CITY</th>\n",
       "      <th>WEEKDAY_APPR_PROCESS_START</th>\n",
       "      <th>HOUR_APPR_PROCESS_START</th>\n",
       "      <th>REG_REGION_NOT_LIVE_REGION</th>\n",
       "      <th>REG_REGION_NOT_WORK_REGION</th>\n",
       "      <th>LIVE_REGION_NOT_WORK_REGION</th>\n",
       "      <th>REG_CITY_NOT_LIVE_CITY</th>\n",
       "      <th>REG_CITY_NOT_WORK_CITY</th>\n",
       "      <th>LIVE_CITY_NOT_WORK_CITY</th>\n",
       "      <th>ORGANIZATION_TYPE</th>\n",
       "      <th>EXT_SOURCE_2</th>\n",
       "      <th>EXT_SOURCE_3</th>\n",
       "      <th>OBS_30_CNT_SOCIAL_CIRCLE</th>\n",
       "      <th>DEF_30_CNT_SOCIAL_CIRCLE</th>\n",
       "      <th>OBS_60_CNT_SOCIAL_CIRCLE</th>\n",
       "      <th>DEF_60_CNT_SOCIAL_CIRCLE</th>\n",
       "      <th>DAYS_LAST_PHONE_CHANGE</th>\n",
       "      <th>FLAG_DOCUMENT_2</th>\n",
       "      <th>FLAG_DOCUMENT_3</th>\n",
       "      <th>FLAG_DOCUMENT_4</th>\n",
       "      <th>FLAG_DOCUMENT_5</th>\n",
       "      <th>FLAG_DOCUMENT_6</th>\n",
       "      <th>FLAG_DOCUMENT_7</th>\n",
       "      <th>FLAG_DOCUMENT_8</th>\n",
       "      <th>FLAG_DOCUMENT_9</th>\n",
       "      <th>FLAG_DOCUMENT_10</th>\n",
       "      <th>FLAG_DOCUMENT_11</th>\n",
       "      <th>FLAG_DOCUMENT_12</th>\n",
       "      <th>FLAG_DOCUMENT_13</th>\n",
       "      <th>FLAG_DOCUMENT_14</th>\n",
       "      <th>FLAG_DOCUMENT_15</th>\n",
       "      <th>FLAG_DOCUMENT_16</th>\n",
       "      <th>FLAG_DOCUMENT_17</th>\n",
       "      <th>FLAG_DOCUMENT_18</th>\n",
       "      <th>FLAG_DOCUMENT_19</th>\n",
       "      <th>FLAG_DOCUMENT_20</th>\n",
       "      <th>FLAG_DOCUMENT_21</th>\n",
       "      <th>AMT_REQ_CREDIT_BUREAU_HOUR</th>\n",
       "      <th>AMT_REQ_CREDIT_BUREAU_DAY</th>\n",
       "      <th>AMT_REQ_CREDIT_BUREAU_WEEK</th>\n",
       "      <th>AMT_REQ_CREDIT_BUREAU_MON</th>\n",
       "      <th>AMT_REQ_CREDIT_BUREAU_QRT</th>\n",
       "      <th>AMT_REQ_CREDIT_BUREAU_YEAR</th>\n",
       "    </tr>\n",
       "  </thead>\n",
       "  <tbody>\n",
       "    <tr>\n",
       "      <th>0</th>\n",
       "      <td>0.0</td>\n",
       "      <td>0.0</td>\n",
       "      <td>1.0</td>\n",
       "      <td>0.0</td>\n",
       "      <td>0.076859</td>\n",
       "      <td>-0.524397</td>\n",
       "      <td>-0.222011</td>\n",
       "      <td>-0.550879</td>\n",
       "      <td>6.0</td>\n",
       "      <td>5.0</td>\n",
       "      <td>4.0</td>\n",
       "      <td>1.0</td>\n",
       "      <td>-0.134728</td>\n",
       "      <td>0.767265</td>\n",
       "      <td>0.304600</td>\n",
       "      <td>0.500716</td>\n",
       "      <td>0.0</td>\n",
       "      <td>1.0</td>\n",
       "      <td>0.0</td>\n",
       "      <td>1.0</td>\n",
       "      <td>1.0</td>\n",
       "      <td>0.0</td>\n",
       "      <td>8.0</td>\n",
       "      <td>-1.357044</td>\n",
       "      <td>-0.101555</td>\n",
       "      <td>-0.061264</td>\n",
       "      <td>6.0</td>\n",
       "      <td>-0.679758</td>\n",
       "      <td>-0.125993</td>\n",
       "      <td>-0.248873</td>\n",
       "      <td>-0.222233</td>\n",
       "      <td>-0.306372</td>\n",
       "      <td>-0.615023</td>\n",
       "      <td>-0.524271</td>\n",
       "      <td>5.0</td>\n",
       "      <td>-1.367968</td>\n",
       "      <td>-1.844872</td>\n",
       "      <td>0.232129</td>\n",
       "      <td>4.166220</td>\n",
       "      <td>0.241231</td>\n",
       "      <td>5.264228</td>\n",
       "      <td>-0.150318</td>\n",
       "      <td>0.0</td>\n",
       "      <td>1.0</td>\n",
       "      <td>0.0</td>\n",
       "      <td>0.0</td>\n",
       "      <td>0.0</td>\n",
       "      <td>0.0</td>\n",
       "      <td>0.0</td>\n",
       "      <td>0.0</td>\n",
       "      <td>0.0</td>\n",
       "      <td>0.0</td>\n",
       "      <td>0.0</td>\n",
       "      <td>0.0</td>\n",
       "      <td>0.0</td>\n",
       "      <td>0.0</td>\n",
       "      <td>0.0</td>\n",
       "      <td>0.0</td>\n",
       "      <td>0.0</td>\n",
       "      <td>0.0</td>\n",
       "      <td>0.0</td>\n",
       "      <td>0.0</td>\n",
       "      <td>-0.076400</td>\n",
       "      <td>-0.061733</td>\n",
       "      <td>-0.168538</td>\n",
       "      <td>-0.300471</td>\n",
       "      <td>-0.428749</td>\n",
       "      <td>-0.473353</td>\n",
       "    </tr>\n",
       "    <tr>\n",
       "      <th>2</th>\n",
       "      <td>1.0</td>\n",
       "      <td>1.0</td>\n",
       "      <td>1.0</td>\n",
       "      <td>0.0</td>\n",
       "      <td>-0.366730</td>\n",
       "      <td>-1.190007</td>\n",
       "      <td>-1.463318</td>\n",
       "      <td>-1.127866</td>\n",
       "      <td>6.0</td>\n",
       "      <td>5.0</td>\n",
       "      <td>4.0</td>\n",
       "      <td>1.0</td>\n",
       "      <td>-0.784080</td>\n",
       "      <td>0.939402</td>\n",
       "      <td>0.116137</td>\n",
       "      <td>0.226888</td>\n",
       "      <td>0.0</td>\n",
       "      <td>1.0</td>\n",
       "      <td>1.0</td>\n",
       "      <td>1.0</td>\n",
       "      <td>1.0</td>\n",
       "      <td>0.0</td>\n",
       "      <td>8.0</td>\n",
       "      <td>-1.357044</td>\n",
       "      <td>-0.101555</td>\n",
       "      <td>-0.061264</td>\n",
       "      <td>1.0</td>\n",
       "      <td>-0.985306</td>\n",
       "      <td>-0.125993</td>\n",
       "      <td>-0.248873</td>\n",
       "      <td>-0.222233</td>\n",
       "      <td>-0.306372</td>\n",
       "      <td>-0.615023</td>\n",
       "      <td>-0.524271</td>\n",
       "      <td>11.0</td>\n",
       "      <td>0.191546</td>\n",
       "      <td>1.168123</td>\n",
       "      <td>-0.585114</td>\n",
       "      <td>-0.316554</td>\n",
       "      <td>-0.583485</td>\n",
       "      <td>-0.271815</td>\n",
       "      <td>0.231774</td>\n",
       "      <td>0.0</td>\n",
       "      <td>0.0</td>\n",
       "      <td>0.0</td>\n",
       "      <td>0.0</td>\n",
       "      <td>0.0</td>\n",
       "      <td>0.0</td>\n",
       "      <td>0.0</td>\n",
       "      <td>0.0</td>\n",
       "      <td>0.0</td>\n",
       "      <td>0.0</td>\n",
       "      <td>0.0</td>\n",
       "      <td>0.0</td>\n",
       "      <td>0.0</td>\n",
       "      <td>0.0</td>\n",
       "      <td>0.0</td>\n",
       "      <td>0.0</td>\n",
       "      <td>0.0</td>\n",
       "      <td>0.0</td>\n",
       "      <td>0.0</td>\n",
       "      <td>0.0</td>\n",
       "      <td>-0.076400</td>\n",
       "      <td>-0.061733</td>\n",
       "      <td>-0.168538</td>\n",
       "      <td>-0.300471</td>\n",
       "      <td>-0.428749</td>\n",
       "      <td>-1.024591</td>\n",
       "    </tr>\n",
       "    <tr>\n",
       "      <th>5</th>\n",
       "      <td>0.0</td>\n",
       "      <td>0.0</td>\n",
       "      <td>1.0</td>\n",
       "      <td>0.0</td>\n",
       "      <td>-0.263226</td>\n",
       "      <td>-0.318787</td>\n",
       "      <td>-0.027210</td>\n",
       "      <td>-0.274406</td>\n",
       "      <td>5.0</td>\n",
       "      <td>3.0</td>\n",
       "      <td>4.0</td>\n",
       "      <td>1.0</td>\n",
       "      <td>1.123470</td>\n",
       "      <td>0.369929</td>\n",
       "      <td>-0.102505</td>\n",
       "      <td>1.595361</td>\n",
       "      <td>0.0</td>\n",
       "      <td>1.0</td>\n",
       "      <td>1.0</td>\n",
       "      <td>1.0</td>\n",
       "      <td>1.0</td>\n",
       "      <td>0.0</td>\n",
       "      <td>8.0</td>\n",
       "      <td>-0.295127</td>\n",
       "      <td>-0.101555</td>\n",
       "      <td>-0.061264</td>\n",
       "      <td>6.0</td>\n",
       "      <td>1.153532</td>\n",
       "      <td>-0.125993</td>\n",
       "      <td>-0.248873</td>\n",
       "      <td>-0.222233</td>\n",
       "      <td>-0.306372</td>\n",
       "      <td>-0.615023</td>\n",
       "      <td>-0.524271</td>\n",
       "      <td>33.0</td>\n",
       "      <td>-0.882084</td>\n",
       "      <td>0.615033</td>\n",
       "      <td>-0.585114</td>\n",
       "      <td>-0.316554</td>\n",
       "      <td>-0.583485</td>\n",
       "      <td>-0.271815</td>\n",
       "      <td>-1.829607</td>\n",
       "      <td>0.0</td>\n",
       "      <td>1.0</td>\n",
       "      <td>0.0</td>\n",
       "      <td>0.0</td>\n",
       "      <td>0.0</td>\n",
       "      <td>0.0</td>\n",
       "      <td>0.0</td>\n",
       "      <td>0.0</td>\n",
       "      <td>0.0</td>\n",
       "      <td>0.0</td>\n",
       "      <td>0.0</td>\n",
       "      <td>0.0</td>\n",
       "      <td>0.0</td>\n",
       "      <td>0.0</td>\n",
       "      <td>0.0</td>\n",
       "      <td>0.0</td>\n",
       "      <td>0.0</td>\n",
       "      <td>0.0</td>\n",
       "      <td>0.0</td>\n",
       "      <td>0.0</td>\n",
       "      <td>-0.076400</td>\n",
       "      <td>-0.061733</td>\n",
       "      <td>-0.168538</td>\n",
       "      <td>-0.300471</td>\n",
       "      <td>1.232911</td>\n",
       "      <td>-0.473353</td>\n",
       "    </tr>\n",
       "    <tr>\n",
       "      <th>6</th>\n",
       "      <td>0.0</td>\n",
       "      <td>1.0</td>\n",
       "      <td>1.0</td>\n",
       "      <td>1.0</td>\n",
       "      <td>-0.026645</td>\n",
       "      <td>2.304051</td>\n",
       "      <td>0.925942</td>\n",
       "      <td>2.237890</td>\n",
       "      <td>6.0</td>\n",
       "      <td>1.0</td>\n",
       "      <td>1.0</td>\n",
       "      <td>1.0</td>\n",
       "      <td>1.123470</td>\n",
       "      <td>-0.274331</td>\n",
       "      <td>1.054450</td>\n",
       "      <td>1.500753</td>\n",
       "      <td>0.0</td>\n",
       "      <td>1.0</td>\n",
       "      <td>0.0</td>\n",
       "      <td>1.0</td>\n",
       "      <td>1.0</td>\n",
       "      <td>0.0</td>\n",
       "      <td>0.0</td>\n",
       "      <td>0.766789</td>\n",
       "      <td>-0.101555</td>\n",
       "      <td>-0.061264</td>\n",
       "      <td>3.0</td>\n",
       "      <td>1.153532</td>\n",
       "      <td>-0.125993</td>\n",
       "      <td>-0.248873</td>\n",
       "      <td>-0.222233</td>\n",
       "      <td>-0.306372</td>\n",
       "      <td>-0.615023</td>\n",
       "      <td>-0.524271</td>\n",
       "      <td>5.0</td>\n",
       "      <td>1.086317</td>\n",
       "      <td>-0.044376</td>\n",
       "      <td>-0.176492</td>\n",
       "      <td>-0.316554</td>\n",
       "      <td>-0.171127</td>\n",
       "      <td>-0.271815</td>\n",
       "      <td>-0.662969</td>\n",
       "      <td>0.0</td>\n",
       "      <td>0.0</td>\n",
       "      <td>0.0</td>\n",
       "      <td>0.0</td>\n",
       "      <td>0.0</td>\n",
       "      <td>0.0</td>\n",
       "      <td>1.0</td>\n",
       "      <td>0.0</td>\n",
       "      <td>0.0</td>\n",
       "      <td>0.0</td>\n",
       "      <td>0.0</td>\n",
       "      <td>0.0</td>\n",
       "      <td>1.0</td>\n",
       "      <td>0.0</td>\n",
       "      <td>0.0</td>\n",
       "      <td>0.0</td>\n",
       "      <td>0.0</td>\n",
       "      <td>0.0</td>\n",
       "      <td>0.0</td>\n",
       "      <td>0.0</td>\n",
       "      <td>-0.076400</td>\n",
       "      <td>-0.061733</td>\n",
       "      <td>-0.168538</td>\n",
       "      <td>0.738462</td>\n",
       "      <td>1.232911</td>\n",
       "      <td>0.077885</td>\n",
       "    </tr>\n",
       "    <tr>\n",
       "      <th>7</th>\n",
       "      <td>0.0</td>\n",
       "      <td>1.0</td>\n",
       "      <td>1.0</td>\n",
       "      <td>0.0</td>\n",
       "      <td>0.594379</td>\n",
       "      <td>2.228750</td>\n",
       "      <td>0.979465</td>\n",
       "      <td>2.598507</td>\n",
       "      <td>6.0</td>\n",
       "      <td>3.0</td>\n",
       "      <td>1.0</td>\n",
       "      <td>1.0</td>\n",
       "      <td>-1.295771</td>\n",
       "      <td>0.845813</td>\n",
       "      <td>0.012359</td>\n",
       "      <td>0.328158</td>\n",
       "      <td>0.0</td>\n",
       "      <td>1.0</td>\n",
       "      <td>1.0</td>\n",
       "      <td>1.0</td>\n",
       "      <td>0.0</td>\n",
       "      <td>0.0</td>\n",
       "      <td>10.0</td>\n",
       "      <td>-0.295127</td>\n",
       "      <td>1.888406</td>\n",
       "      <td>1.948486</td>\n",
       "      <td>1.0</td>\n",
       "      <td>1.153532</td>\n",
       "      <td>-0.125993</td>\n",
       "      <td>-0.248873</td>\n",
       "      <td>-0.222233</td>\n",
       "      <td>-0.306372</td>\n",
       "      <td>1.625956</td>\n",
       "      <td>1.907412</td>\n",
       "      <td>33.0</td>\n",
       "      <td>1.034572</td>\n",
       "      <td>0.203704</td>\n",
       "      <td>0.232129</td>\n",
       "      <td>-0.316554</td>\n",
       "      <td>0.241231</td>\n",
       "      <td>-0.271815</td>\n",
       "      <td>-0.073660</td>\n",
       "      <td>0.0</td>\n",
       "      <td>1.0</td>\n",
       "      <td>0.0</td>\n",
       "      <td>0.0</td>\n",
       "      <td>0.0</td>\n",
       "      <td>0.0</td>\n",
       "      <td>0.0</td>\n",
       "      <td>0.0</td>\n",
       "      <td>0.0</td>\n",
       "      <td>0.0</td>\n",
       "      <td>0.0</td>\n",
       "      <td>0.0</td>\n",
       "      <td>0.0</td>\n",
       "      <td>0.0</td>\n",
       "      <td>0.0</td>\n",
       "      <td>0.0</td>\n",
       "      <td>0.0</td>\n",
       "      <td>0.0</td>\n",
       "      <td>0.0</td>\n",
       "      <td>0.0</td>\n",
       "      <td>-0.076400</td>\n",
       "      <td>-0.061733</td>\n",
       "      <td>-0.168538</td>\n",
       "      <td>-0.300471</td>\n",
       "      <td>-0.428749</td>\n",
       "      <td>-1.024591</td>\n",
       "    </tr>\n",
       "    <tr>\n",
       "      <th>...</th>\n",
       "      <td>...</td>\n",
       "      <td>...</td>\n",
       "      <td>...</td>\n",
       "      <td>...</td>\n",
       "      <td>...</td>\n",
       "      <td>...</td>\n",
       "      <td>...</td>\n",
       "      <td>...</td>\n",
       "      <td>...</td>\n",
       "      <td>...</td>\n",
       "      <td>...</td>\n",
       "      <td>...</td>\n",
       "      <td>...</td>\n",
       "      <td>...</td>\n",
       "      <td>...</td>\n",
       "      <td>...</td>\n",
       "      <td>...</td>\n",
       "      <td>...</td>\n",
       "      <td>...</td>\n",
       "      <td>...</td>\n",
       "      <td>...</td>\n",
       "      <td>...</td>\n",
       "      <td>...</td>\n",
       "      <td>...</td>\n",
       "      <td>...</td>\n",
       "      <td>...</td>\n",
       "      <td>...</td>\n",
       "      <td>...</td>\n",
       "      <td>...</td>\n",
       "      <td>...</td>\n",
       "      <td>...</td>\n",
       "      <td>...</td>\n",
       "      <td>...</td>\n",
       "      <td>...</td>\n",
       "      <td>...</td>\n",
       "      <td>...</td>\n",
       "      <td>...</td>\n",
       "      <td>...</td>\n",
       "      <td>...</td>\n",
       "      <td>...</td>\n",
       "      <td>...</td>\n",
       "      <td>...</td>\n",
       "      <td>...</td>\n",
       "      <td>...</td>\n",
       "      <td>...</td>\n",
       "      <td>...</td>\n",
       "      <td>...</td>\n",
       "      <td>...</td>\n",
       "      <td>...</td>\n",
       "      <td>...</td>\n",
       "      <td>...</td>\n",
       "      <td>...</td>\n",
       "      <td>...</td>\n",
       "      <td>...</td>\n",
       "      <td>...</td>\n",
       "      <td>...</td>\n",
       "      <td>...</td>\n",
       "      <td>...</td>\n",
       "      <td>...</td>\n",
       "      <td>...</td>\n",
       "      <td>...</td>\n",
       "      <td>...</td>\n",
       "      <td>...</td>\n",
       "      <td>...</td>\n",
       "      <td>...</td>\n",
       "      <td>...</td>\n",
       "      <td>...</td>\n",
       "      <td>...</td>\n",
       "    </tr>\n",
       "    <tr>\n",
       "      <th>307502</th>\n",
       "      <td>0.0</td>\n",
       "      <td>0.0</td>\n",
       "      <td>1.0</td>\n",
       "      <td>1.0</td>\n",
       "      <td>-0.278012</td>\n",
       "      <td>-0.969442</td>\n",
       "      <td>-1.195701</td>\n",
       "      <td>-0.887455</td>\n",
       "      <td>6.0</td>\n",
       "      <td>5.0</td>\n",
       "      <td>4.0</td>\n",
       "      <td>1.0</td>\n",
       "      <td>-0.714916</td>\n",
       "      <td>-2.616565</td>\n",
       "      <td>-1.242523</td>\n",
       "      <td>-1.105607</td>\n",
       "      <td>0.0</td>\n",
       "      <td>1.0</td>\n",
       "      <td>1.0</td>\n",
       "      <td>1.0</td>\n",
       "      <td>0.0</td>\n",
       "      <td>0.0</td>\n",
       "      <td>8.0</td>\n",
       "      <td>0.766789</td>\n",
       "      <td>-0.101555</td>\n",
       "      <td>-0.061264</td>\n",
       "      <td>1.0</td>\n",
       "      <td>1.153532</td>\n",
       "      <td>-0.125993</td>\n",
       "      <td>-0.248873</td>\n",
       "      <td>-0.222233</td>\n",
       "      <td>-0.306372</td>\n",
       "      <td>1.625956</td>\n",
       "      <td>1.907412</td>\n",
       "      <td>39.0</td>\n",
       "      <td>-1.099756</td>\n",
       "      <td>1.196989</td>\n",
       "      <td>-0.585114</td>\n",
       "      <td>-0.316554</td>\n",
       "      <td>-0.583485</td>\n",
       "      <td>-0.271815</td>\n",
       "      <td>-0.607871</td>\n",
       "      <td>0.0</td>\n",
       "      <td>1.0</td>\n",
       "      <td>0.0</td>\n",
       "      <td>0.0</td>\n",
       "      <td>0.0</td>\n",
       "      <td>0.0</td>\n",
       "      <td>0.0</td>\n",
       "      <td>0.0</td>\n",
       "      <td>0.0</td>\n",
       "      <td>0.0</td>\n",
       "      <td>0.0</td>\n",
       "      <td>0.0</td>\n",
       "      <td>0.0</td>\n",
       "      <td>0.0</td>\n",
       "      <td>0.0</td>\n",
       "      <td>0.0</td>\n",
       "      <td>0.0</td>\n",
       "      <td>0.0</td>\n",
       "      <td>0.0</td>\n",
       "      <td>0.0</td>\n",
       "      <td>-0.076400</td>\n",
       "      <td>-0.061733</td>\n",
       "      <td>-0.168538</td>\n",
       "      <td>-0.300471</td>\n",
       "      <td>-0.428749</td>\n",
       "      <td>-0.473353</td>\n",
       "    </tr>\n",
       "    <tr>\n",
       "      <th>307503</th>\n",
       "      <td>0.0</td>\n",
       "      <td>0.0</td>\n",
       "      <td>1.0</td>\n",
       "      <td>0.0</td>\n",
       "      <td>-0.218867</td>\n",
       "      <td>-0.674106</td>\n",
       "      <td>-0.701232</td>\n",
       "      <td>-0.827352</td>\n",
       "      <td>6.0</td>\n",
       "      <td>1.0</td>\n",
       "      <td>1.0</td>\n",
       "      <td>1.0</td>\n",
       "      <td>0.161401</td>\n",
       "      <td>0.866703</td>\n",
       "      <td>1.220125</td>\n",
       "      <td>-0.709190</td>\n",
       "      <td>0.0</td>\n",
       "      <td>1.0</td>\n",
       "      <td>0.0</td>\n",
       "      <td>1.0</td>\n",
       "      <td>0.0</td>\n",
       "      <td>1.0</td>\n",
       "      <td>3.0</td>\n",
       "      <td>-1.357044</td>\n",
       "      <td>-0.101555</td>\n",
       "      <td>-0.061264</td>\n",
       "      <td>2.0</td>\n",
       "      <td>-0.374210</td>\n",
       "      <td>-0.125993</td>\n",
       "      <td>-0.248873</td>\n",
       "      <td>-0.222233</td>\n",
       "      <td>-0.306372</td>\n",
       "      <td>-0.615023</td>\n",
       "      <td>-0.524271</td>\n",
       "      <td>2.0</td>\n",
       "      <td>-0.099588</td>\n",
       "      <td>0.554023</td>\n",
       "      <td>3.092481</td>\n",
       "      <td>6.407607</td>\n",
       "      <td>3.127739</td>\n",
       "      <td>5.264228</td>\n",
       "      <td>-1.564898</td>\n",
       "      <td>0.0</td>\n",
       "      <td>1.0</td>\n",
       "      <td>0.0</td>\n",
       "      <td>0.0</td>\n",
       "      <td>0.0</td>\n",
       "      <td>0.0</td>\n",
       "      <td>0.0</td>\n",
       "      <td>0.0</td>\n",
       "      <td>0.0</td>\n",
       "      <td>0.0</td>\n",
       "      <td>0.0</td>\n",
       "      <td>0.0</td>\n",
       "      <td>0.0</td>\n",
       "      <td>0.0</td>\n",
       "      <td>0.0</td>\n",
       "      <td>0.0</td>\n",
       "      <td>0.0</td>\n",
       "      <td>0.0</td>\n",
       "      <td>0.0</td>\n",
       "      <td>0.0</td>\n",
       "      <td>-0.076400</td>\n",
       "      <td>-0.061733</td>\n",
       "      <td>-0.168538</td>\n",
       "      <td>0.738462</td>\n",
       "      <td>-0.428749</td>\n",
       "      <td>0.077885</td>\n",
       "    </tr>\n",
       "    <tr>\n",
       "      <th>307508</th>\n",
       "      <td>0.0</td>\n",
       "      <td>0.0</td>\n",
       "      <td>1.0</td>\n",
       "      <td>0.0</td>\n",
       "      <td>-0.085790</td>\n",
       "      <td>0.139911</td>\n",
       "      <td>0.143006</td>\n",
       "      <td>0.074190</td>\n",
       "      <td>6.0</td>\n",
       "      <td>5.0</td>\n",
       "      <td>1.0</td>\n",
       "      <td>1.0</td>\n",
       "      <td>-1.156556</td>\n",
       "      <td>-2.276051</td>\n",
       "      <td>-0.646647</td>\n",
       "      <td>-1.518015</td>\n",
       "      <td>0.0</td>\n",
       "      <td>1.0</td>\n",
       "      <td>0.0</td>\n",
       "      <td>1.0</td>\n",
       "      <td>0.0</td>\n",
       "      <td>1.0</td>\n",
       "      <td>10.0</td>\n",
       "      <td>-1.357044</td>\n",
       "      <td>1.888406</td>\n",
       "      <td>1.948486</td>\n",
       "      <td>4.0</td>\n",
       "      <td>-0.985306</td>\n",
       "      <td>-0.125993</td>\n",
       "      <td>-0.248873</td>\n",
       "      <td>-0.222233</td>\n",
       "      <td>-0.306372</td>\n",
       "      <td>1.625956</td>\n",
       "      <td>1.907412</td>\n",
       "      <td>39.0</td>\n",
       "      <td>0.084068</td>\n",
       "      <td>-1.439100</td>\n",
       "      <td>1.866616</td>\n",
       "      <td>-0.316554</td>\n",
       "      <td>1.890664</td>\n",
       "      <td>-0.271815</td>\n",
       "      <td>-1.078599</td>\n",
       "      <td>0.0</td>\n",
       "      <td>1.0</td>\n",
       "      <td>0.0</td>\n",
       "      <td>0.0</td>\n",
       "      <td>0.0</td>\n",
       "      <td>0.0</td>\n",
       "      <td>0.0</td>\n",
       "      <td>0.0</td>\n",
       "      <td>0.0</td>\n",
       "      <td>0.0</td>\n",
       "      <td>0.0</td>\n",
       "      <td>0.0</td>\n",
       "      <td>0.0</td>\n",
       "      <td>0.0</td>\n",
       "      <td>0.0</td>\n",
       "      <td>0.0</td>\n",
       "      <td>0.0</td>\n",
       "      <td>0.0</td>\n",
       "      <td>0.0</td>\n",
       "      <td>0.0</td>\n",
       "      <td>11.756147</td>\n",
       "      <td>-0.061733</td>\n",
       "      <td>-0.168538</td>\n",
       "      <td>0.738462</td>\n",
       "      <td>-0.428749</td>\n",
       "      <td>-0.473353</td>\n",
       "    </tr>\n",
       "    <tr>\n",
       "      <th>307509</th>\n",
       "      <td>0.0</td>\n",
       "      <td>0.0</td>\n",
       "      <td>1.0</td>\n",
       "      <td>0.0</td>\n",
       "      <td>-0.026645</td>\n",
       "      <td>-0.613825</td>\n",
       "      <td>-0.532882</td>\n",
       "      <td>-0.635023</td>\n",
       "      <td>6.0</td>\n",
       "      <td>1.0</td>\n",
       "      <td>4.0</td>\n",
       "      <td>1.0</td>\n",
       "      <td>-1.133526</td>\n",
       "      <td>-0.966222</td>\n",
       "      <td>0.639030</td>\n",
       "      <td>1.292884</td>\n",
       "      <td>0.0</td>\n",
       "      <td>1.0</td>\n",
       "      <td>0.0</td>\n",
       "      <td>1.0</td>\n",
       "      <td>0.0</td>\n",
       "      <td>0.0</td>\n",
       "      <td>8.0</td>\n",
       "      <td>-0.295127</td>\n",
       "      <td>-0.101555</td>\n",
       "      <td>-0.061264</td>\n",
       "      <td>6.0</td>\n",
       "      <td>-0.985306</td>\n",
       "      <td>-0.125993</td>\n",
       "      <td>-0.248873</td>\n",
       "      <td>-0.222233</td>\n",
       "      <td>3.264004</td>\n",
       "      <td>1.625956</td>\n",
       "      <td>-0.524271</td>\n",
       "      <td>3.0</td>\n",
       "      <td>-0.030695</td>\n",
       "      <td>0.818202</td>\n",
       "      <td>-0.585114</td>\n",
       "      <td>-0.316554</td>\n",
       "      <td>-0.583485</td>\n",
       "      <td>-0.271815</td>\n",
       "      <td>0.822280</td>\n",
       "      <td>0.0</td>\n",
       "      <td>1.0</td>\n",
       "      <td>0.0</td>\n",
       "      <td>0.0</td>\n",
       "      <td>0.0</td>\n",
       "      <td>0.0</td>\n",
       "      <td>0.0</td>\n",
       "      <td>0.0</td>\n",
       "      <td>0.0</td>\n",
       "      <td>0.0</td>\n",
       "      <td>0.0</td>\n",
       "      <td>0.0</td>\n",
       "      <td>0.0</td>\n",
       "      <td>0.0</td>\n",
       "      <td>0.0</td>\n",
       "      <td>0.0</td>\n",
       "      <td>0.0</td>\n",
       "      <td>0.0</td>\n",
       "      <td>0.0</td>\n",
       "      <td>0.0</td>\n",
       "      <td>-0.076400</td>\n",
       "      <td>-0.061733</td>\n",
       "      <td>-0.168538</td>\n",
       "      <td>-0.300471</td>\n",
       "      <td>-0.428749</td>\n",
       "      <td>-1.024591</td>\n",
       "    </tr>\n",
       "    <tr>\n",
       "      <th>307510</th>\n",
       "      <td>0.0</td>\n",
       "      <td>0.0</td>\n",
       "      <td>0.0</td>\n",
       "      <td>0.0</td>\n",
       "      <td>-0.071004</td>\n",
       "      <td>0.133383</td>\n",
       "      <td>1.466466</td>\n",
       "      <td>0.314601</td>\n",
       "      <td>6.0</td>\n",
       "      <td>1.0</td>\n",
       "      <td>1.0</td>\n",
       "      <td>1.0</td>\n",
       "      <td>1.895672</td>\n",
       "      <td>0.506135</td>\n",
       "      <td>-0.151161</td>\n",
       "      <td>1.639999</td>\n",
       "      <td>0.0</td>\n",
       "      <td>1.0</td>\n",
       "      <td>1.0</td>\n",
       "      <td>1.0</td>\n",
       "      <td>1.0</td>\n",
       "      <td>0.0</td>\n",
       "      <td>8.0</td>\n",
       "      <td>-0.295127</td>\n",
       "      <td>-2.091516</td>\n",
       "      <td>-2.071013</td>\n",
       "      <td>4.0</td>\n",
       "      <td>2.375725</td>\n",
       "      <td>-0.125993</td>\n",
       "      <td>-0.248873</td>\n",
       "      <td>-0.222233</td>\n",
       "      <td>-0.306372</td>\n",
       "      <td>1.625956</td>\n",
       "      <td>1.907412</td>\n",
       "      <td>5.0</td>\n",
       "      <td>1.004174</td>\n",
       "      <td>-1.974814</td>\n",
       "      <td>-0.585114</td>\n",
       "      <td>-0.316554</td>\n",
       "      <td>-0.583485</td>\n",
       "      <td>-0.271815</td>\n",
       "      <td>0.265312</td>\n",
       "      <td>0.0</td>\n",
       "      <td>1.0</td>\n",
       "      <td>0.0</td>\n",
       "      <td>0.0</td>\n",
       "      <td>0.0</td>\n",
       "      <td>0.0</td>\n",
       "      <td>0.0</td>\n",
       "      <td>0.0</td>\n",
       "      <td>0.0</td>\n",
       "      <td>0.0</td>\n",
       "      <td>0.0</td>\n",
       "      <td>0.0</td>\n",
       "      <td>0.0</td>\n",
       "      <td>0.0</td>\n",
       "      <td>0.0</td>\n",
       "      <td>0.0</td>\n",
       "      <td>0.0</td>\n",
       "      <td>0.0</td>\n",
       "      <td>0.0</td>\n",
       "      <td>0.0</td>\n",
       "      <td>-0.076400</td>\n",
       "      <td>-0.061733</td>\n",
       "      <td>-0.168538</td>\n",
       "      <td>1.777395</td>\n",
       "      <td>-0.428749</td>\n",
       "      <td>-0.473353</td>\n",
       "    </tr>\n",
       "  </tbody>\n",
       "</table>\n",
       "<p>167732 rows × 68 columns</p>\n",
       "</div>"
      ],
      "text/plain": [
       "        NAME_CONTRACT_TYPE  FLAG_OWN_CAR  FLAG_OWN_REALTY  CNT_CHILDREN  \\\n",
       "0                      0.0           0.0              1.0           0.0   \n",
       "2                      1.0           1.0              1.0           0.0   \n",
       "5                      0.0           0.0              1.0           0.0   \n",
       "6                      0.0           1.0              1.0           1.0   \n",
       "7                      0.0           1.0              1.0           0.0   \n",
       "...                    ...           ...              ...           ...   \n",
       "307502                 0.0           0.0              1.0           1.0   \n",
       "307503                 0.0           0.0              1.0           0.0   \n",
       "307508                 0.0           0.0              1.0           0.0   \n",
       "307509                 0.0           0.0              1.0           0.0   \n",
       "307510                 0.0           0.0              0.0           0.0   \n",
       "\n",
       "        AMT_INCOME_TOTAL  AMT_CREDIT  AMT_ANNUITY  AMT_GOODS_PRICE  \\\n",
       "0               0.076859   -0.524397    -0.222011        -0.550879   \n",
       "2              -0.366730   -1.190007    -1.463318        -1.127866   \n",
       "5              -0.263226   -0.318787    -0.027210        -0.274406   \n",
       "6              -0.026645    2.304051     0.925942         2.237890   \n",
       "7               0.594379    2.228750     0.979465         2.598507   \n",
       "...                  ...         ...          ...              ...   \n",
       "307502         -0.278012   -0.969442    -1.195701        -0.887455   \n",
       "307503         -0.218867   -0.674106    -0.701232        -0.827352   \n",
       "307508         -0.085790    0.139911     0.143006         0.074190   \n",
       "307509         -0.026645   -0.613825    -0.532882        -0.635023   \n",
       "307510         -0.071004    0.133383     1.466466         0.314601   \n",
       "\n",
       "        NAME_TYPE_SUITE  NAME_INCOME_TYPE  NAME_EDUCATION_TYPE  \\\n",
       "0                   6.0               5.0                  4.0   \n",
       "2                   6.0               5.0                  4.0   \n",
       "5                   5.0               3.0                  4.0   \n",
       "6                   6.0               1.0                  1.0   \n",
       "7                   6.0               3.0                  1.0   \n",
       "...                 ...               ...                  ...   \n",
       "307502              6.0               5.0                  4.0   \n",
       "307503              6.0               1.0                  1.0   \n",
       "307508              6.0               5.0                  1.0   \n",
       "307509              6.0               1.0                  4.0   \n",
       "307510              6.0               1.0                  1.0   \n",
       "\n",
       "        NAME_HOUSING_TYPE  REGION_POPULATION_RELATIVE  DAYS_EMPLOYED  \\\n",
       "0                     1.0                   -0.134728       0.767265   \n",
       "2                     1.0                   -0.784080       0.939402   \n",
       "5                     1.0                    1.123470       0.369929   \n",
       "6                     1.0                    1.123470      -0.274331   \n",
       "7                     1.0                   -1.295771       0.845813   \n",
       "...                   ...                         ...            ...   \n",
       "307502                1.0                   -0.714916      -2.616565   \n",
       "307503                1.0                    0.161401       0.866703   \n",
       "307508                1.0                   -1.156556      -2.276051   \n",
       "307509                1.0                   -1.133526      -0.966222   \n",
       "307510                1.0                    1.895672       0.506135   \n",
       "\n",
       "        DAYS_REGISTRATION  DAYS_ID_PUBLISH  FLAG_MOBIL  FLAG_EMP_PHONE  \\\n",
       "0                0.304600         0.500716         0.0             1.0   \n",
       "2                0.116137         0.226888         0.0             1.0   \n",
       "5               -0.102505         1.595361         0.0             1.0   \n",
       "6                1.054450         1.500753         0.0             1.0   \n",
       "7                0.012359         0.328158         0.0             1.0   \n",
       "...                   ...              ...         ...             ...   \n",
       "307502          -1.242523        -1.105607         0.0             1.0   \n",
       "307503           1.220125        -0.709190         0.0             1.0   \n",
       "307508          -0.646647        -1.518015         0.0             1.0   \n",
       "307509           0.639030         1.292884         0.0             1.0   \n",
       "307510          -0.151161         1.639999         0.0             1.0   \n",
       "\n",
       "        FLAG_WORK_PHONE  FLAG_CONT_MOBILE  FLAG_PHONE  FLAG_EMAIL  \\\n",
       "0                   0.0               1.0         1.0         0.0   \n",
       "2                   1.0               1.0         1.0         0.0   \n",
       "5                   1.0               1.0         1.0         0.0   \n",
       "6                   0.0               1.0         1.0         0.0   \n",
       "7                   1.0               1.0         0.0         0.0   \n",
       "...                 ...               ...         ...         ...   \n",
       "307502              1.0               1.0         0.0         0.0   \n",
       "307503              0.0               1.0         0.0         1.0   \n",
       "307508              0.0               1.0         0.0         1.0   \n",
       "307509              0.0               1.0         0.0         0.0   \n",
       "307510              1.0               1.0         1.0         0.0   \n",
       "\n",
       "        OCCUPATION_TYPE  CNT_FAM_MEMBERS  REGION_RATING_CLIENT  \\\n",
       "0                   8.0        -1.357044             -0.101555   \n",
       "2                   8.0        -1.357044             -0.101555   \n",
       "5                   8.0        -0.295127             -0.101555   \n",
       "6                   0.0         0.766789             -0.101555   \n",
       "7                  10.0        -0.295127              1.888406   \n",
       "...                 ...              ...                   ...   \n",
       "307502              8.0         0.766789             -0.101555   \n",
       "307503              3.0        -1.357044             -0.101555   \n",
       "307508             10.0        -1.357044              1.888406   \n",
       "307509              8.0        -0.295127             -0.101555   \n",
       "307510              8.0        -0.295127             -2.091516   \n",
       "\n",
       "        REGION_RATING_CLIENT_W_CITY  WEEKDAY_APPR_PROCESS_START  \\\n",
       "0                         -0.061264                         6.0   \n",
       "2                         -0.061264                         1.0   \n",
       "5                         -0.061264                         6.0   \n",
       "6                         -0.061264                         3.0   \n",
       "7                          1.948486                         1.0   \n",
       "...                             ...                         ...   \n",
       "307502                    -0.061264                         1.0   \n",
       "307503                    -0.061264                         2.0   \n",
       "307508                     1.948486                         4.0   \n",
       "307509                    -0.061264                         6.0   \n",
       "307510                    -2.071013                         4.0   \n",
       "\n",
       "        HOUR_APPR_PROCESS_START  REG_REGION_NOT_LIVE_REGION  \\\n",
       "0                     -0.679758                   -0.125993   \n",
       "2                     -0.985306                   -0.125993   \n",
       "5                      1.153532                   -0.125993   \n",
       "6                      1.153532                   -0.125993   \n",
       "7                      1.153532                   -0.125993   \n",
       "...                         ...                         ...   \n",
       "307502                 1.153532                   -0.125993   \n",
       "307503                -0.374210                   -0.125993   \n",
       "307508                -0.985306                   -0.125993   \n",
       "307509                -0.985306                   -0.125993   \n",
       "307510                 2.375725                   -0.125993   \n",
       "\n",
       "        REG_REGION_NOT_WORK_REGION  LIVE_REGION_NOT_WORK_REGION  \\\n",
       "0                        -0.248873                    -0.222233   \n",
       "2                        -0.248873                    -0.222233   \n",
       "5                        -0.248873                    -0.222233   \n",
       "6                        -0.248873                    -0.222233   \n",
       "7                        -0.248873                    -0.222233   \n",
       "...                            ...                          ...   \n",
       "307502                   -0.248873                    -0.222233   \n",
       "307503                   -0.248873                    -0.222233   \n",
       "307508                   -0.248873                    -0.222233   \n",
       "307509                   -0.248873                    -0.222233   \n",
       "307510                   -0.248873                    -0.222233   \n",
       "\n",
       "        REG_CITY_NOT_LIVE_CITY  REG_CITY_NOT_WORK_CITY  \\\n",
       "0                    -0.306372               -0.615023   \n",
       "2                    -0.306372               -0.615023   \n",
       "5                    -0.306372               -0.615023   \n",
       "6                    -0.306372               -0.615023   \n",
       "7                    -0.306372                1.625956   \n",
       "...                        ...                     ...   \n",
       "307502               -0.306372                1.625956   \n",
       "307503               -0.306372               -0.615023   \n",
       "307508               -0.306372                1.625956   \n",
       "307509                3.264004                1.625956   \n",
       "307510               -0.306372                1.625956   \n",
       "\n",
       "        LIVE_CITY_NOT_WORK_CITY  ORGANIZATION_TYPE  EXT_SOURCE_2  \\\n",
       "0                     -0.524271                5.0     -1.367968   \n",
       "2                     -0.524271               11.0      0.191546   \n",
       "5                     -0.524271               33.0     -0.882084   \n",
       "6                     -0.524271                5.0      1.086317   \n",
       "7                      1.907412               33.0      1.034572   \n",
       "...                         ...                ...           ...   \n",
       "307502                 1.907412               39.0     -1.099756   \n",
       "307503                -0.524271                2.0     -0.099588   \n",
       "307508                 1.907412               39.0      0.084068   \n",
       "307509                -0.524271                3.0     -0.030695   \n",
       "307510                 1.907412                5.0      1.004174   \n",
       "\n",
       "        EXT_SOURCE_3  OBS_30_CNT_SOCIAL_CIRCLE  DEF_30_CNT_SOCIAL_CIRCLE  \\\n",
       "0          -1.844872                  0.232129                  4.166220   \n",
       "2           1.168123                 -0.585114                 -0.316554   \n",
       "5           0.615033                 -0.585114                 -0.316554   \n",
       "6          -0.044376                 -0.176492                 -0.316554   \n",
       "7           0.203704                  0.232129                 -0.316554   \n",
       "...              ...                       ...                       ...   \n",
       "307502      1.196989                 -0.585114                 -0.316554   \n",
       "307503      0.554023                  3.092481                  6.407607   \n",
       "307508     -1.439100                  1.866616                 -0.316554   \n",
       "307509      0.818202                 -0.585114                 -0.316554   \n",
       "307510     -1.974814                 -0.585114                 -0.316554   \n",
       "\n",
       "        OBS_60_CNT_SOCIAL_CIRCLE  DEF_60_CNT_SOCIAL_CIRCLE  \\\n",
       "0                       0.241231                  5.264228   \n",
       "2                      -0.583485                 -0.271815   \n",
       "5                      -0.583485                 -0.271815   \n",
       "6                      -0.171127                 -0.271815   \n",
       "7                       0.241231                 -0.271815   \n",
       "...                          ...                       ...   \n",
       "307502                 -0.583485                 -0.271815   \n",
       "307503                  3.127739                  5.264228   \n",
       "307508                  1.890664                 -0.271815   \n",
       "307509                 -0.583485                 -0.271815   \n",
       "307510                 -0.583485                 -0.271815   \n",
       "\n",
       "        DAYS_LAST_PHONE_CHANGE  FLAG_DOCUMENT_2  FLAG_DOCUMENT_3  \\\n",
       "0                    -0.150318              0.0              1.0   \n",
       "2                     0.231774              0.0              0.0   \n",
       "5                    -1.829607              0.0              1.0   \n",
       "6                    -0.662969              0.0              0.0   \n",
       "7                    -0.073660              0.0              1.0   \n",
       "...                        ...              ...              ...   \n",
       "307502               -0.607871              0.0              1.0   \n",
       "307503               -1.564898              0.0              1.0   \n",
       "307508               -1.078599              0.0              1.0   \n",
       "307509                0.822280              0.0              1.0   \n",
       "307510                0.265312              0.0              1.0   \n",
       "\n",
       "        FLAG_DOCUMENT_4  FLAG_DOCUMENT_5  FLAG_DOCUMENT_6  FLAG_DOCUMENT_7  \\\n",
       "0                   0.0              0.0              0.0              0.0   \n",
       "2                   0.0              0.0              0.0              0.0   \n",
       "5                   0.0              0.0              0.0              0.0   \n",
       "6                   0.0              0.0              0.0              0.0   \n",
       "7                   0.0              0.0              0.0              0.0   \n",
       "...                 ...              ...              ...              ...   \n",
       "307502              0.0              0.0              0.0              0.0   \n",
       "307503              0.0              0.0              0.0              0.0   \n",
       "307508              0.0              0.0              0.0              0.0   \n",
       "307509              0.0              0.0              0.0              0.0   \n",
       "307510              0.0              0.0              0.0              0.0   \n",
       "\n",
       "        FLAG_DOCUMENT_8  FLAG_DOCUMENT_9  FLAG_DOCUMENT_10  FLAG_DOCUMENT_11  \\\n",
       "0                   0.0              0.0               0.0               0.0   \n",
       "2                   0.0              0.0               0.0               0.0   \n",
       "5                   0.0              0.0               0.0               0.0   \n",
       "6                   1.0              0.0               0.0               0.0   \n",
       "7                   0.0              0.0               0.0               0.0   \n",
       "...                 ...              ...               ...               ...   \n",
       "307502              0.0              0.0               0.0               0.0   \n",
       "307503              0.0              0.0               0.0               0.0   \n",
       "307508              0.0              0.0               0.0               0.0   \n",
       "307509              0.0              0.0               0.0               0.0   \n",
       "307510              0.0              0.0               0.0               0.0   \n",
       "\n",
       "        FLAG_DOCUMENT_12  FLAG_DOCUMENT_13  FLAG_DOCUMENT_14  \\\n",
       "0                    0.0               0.0               0.0   \n",
       "2                    0.0               0.0               0.0   \n",
       "5                    0.0               0.0               0.0   \n",
       "6                    0.0               0.0               1.0   \n",
       "7                    0.0               0.0               0.0   \n",
       "...                  ...               ...               ...   \n",
       "307502               0.0               0.0               0.0   \n",
       "307503               0.0               0.0               0.0   \n",
       "307508               0.0               0.0               0.0   \n",
       "307509               0.0               0.0               0.0   \n",
       "307510               0.0               0.0               0.0   \n",
       "\n",
       "        FLAG_DOCUMENT_15  FLAG_DOCUMENT_16  FLAG_DOCUMENT_17  \\\n",
       "0                    0.0               0.0               0.0   \n",
       "2                    0.0               0.0               0.0   \n",
       "5                    0.0               0.0               0.0   \n",
       "6                    0.0               0.0               0.0   \n",
       "7                    0.0               0.0               0.0   \n",
       "...                  ...               ...               ...   \n",
       "307502               0.0               0.0               0.0   \n",
       "307503               0.0               0.0               0.0   \n",
       "307508               0.0               0.0               0.0   \n",
       "307509               0.0               0.0               0.0   \n",
       "307510               0.0               0.0               0.0   \n",
       "\n",
       "        FLAG_DOCUMENT_18  FLAG_DOCUMENT_19  FLAG_DOCUMENT_20  \\\n",
       "0                    0.0               0.0               0.0   \n",
       "2                    0.0               0.0               0.0   \n",
       "5                    0.0               0.0               0.0   \n",
       "6                    0.0               0.0               0.0   \n",
       "7                    0.0               0.0               0.0   \n",
       "...                  ...               ...               ...   \n",
       "307502               0.0               0.0               0.0   \n",
       "307503               0.0               0.0               0.0   \n",
       "307508               0.0               0.0               0.0   \n",
       "307509               0.0               0.0               0.0   \n",
       "307510               0.0               0.0               0.0   \n",
       "\n",
       "        FLAG_DOCUMENT_21  AMT_REQ_CREDIT_BUREAU_HOUR  \\\n",
       "0                    0.0                   -0.076400   \n",
       "2                    0.0                   -0.076400   \n",
       "5                    0.0                   -0.076400   \n",
       "6                    0.0                   -0.076400   \n",
       "7                    0.0                   -0.076400   \n",
       "...                  ...                         ...   \n",
       "307502               0.0                   -0.076400   \n",
       "307503               0.0                   -0.076400   \n",
       "307508               0.0                   11.756147   \n",
       "307509               0.0                   -0.076400   \n",
       "307510               0.0                   -0.076400   \n",
       "\n",
       "        AMT_REQ_CREDIT_BUREAU_DAY  AMT_REQ_CREDIT_BUREAU_WEEK  \\\n",
       "0                       -0.061733                   -0.168538   \n",
       "2                       -0.061733                   -0.168538   \n",
       "5                       -0.061733                   -0.168538   \n",
       "6                       -0.061733                   -0.168538   \n",
       "7                       -0.061733                   -0.168538   \n",
       "...                           ...                         ...   \n",
       "307502                  -0.061733                   -0.168538   \n",
       "307503                  -0.061733                   -0.168538   \n",
       "307508                  -0.061733                   -0.168538   \n",
       "307509                  -0.061733                   -0.168538   \n",
       "307510                  -0.061733                   -0.168538   \n",
       "\n",
       "        AMT_REQ_CREDIT_BUREAU_MON  AMT_REQ_CREDIT_BUREAU_QRT  \\\n",
       "0                       -0.300471                  -0.428749   \n",
       "2                       -0.300471                  -0.428749   \n",
       "5                       -0.300471                   1.232911   \n",
       "6                        0.738462                   1.232911   \n",
       "7                       -0.300471                  -0.428749   \n",
       "...                           ...                        ...   \n",
       "307502                  -0.300471                  -0.428749   \n",
       "307503                   0.738462                  -0.428749   \n",
       "307508                   0.738462                  -0.428749   \n",
       "307509                  -0.300471                  -0.428749   \n",
       "307510                   1.777395                  -0.428749   \n",
       "\n",
       "        AMT_REQ_CREDIT_BUREAU_YEAR  \n",
       "0                        -0.473353  \n",
       "2                        -1.024591  \n",
       "5                        -0.473353  \n",
       "6                         0.077885  \n",
       "7                        -1.024591  \n",
       "...                            ...  \n",
       "307502                   -0.473353  \n",
       "307503                    0.077885  \n",
       "307508                   -0.473353  \n",
       "307509                   -1.024591  \n",
       "307510                   -0.473353  \n",
       "\n",
       "[167732 rows x 68 columns]"
      ]
     },
     "execution_count": 100,
     "metadata": {},
     "output_type": "execute_result"
    }
   ],
   "source": [
    "X_train_data[numeric_features] = numeric_transformer.fit_transform(X_train_data[numeric_features])\n",
    "X_train_data[categorical_features] = categorical_transformer.fit_transform(X_train_data[categorical_features])\n",
    "X_train_data"
   ]
  },
  {
   "cell_type": "code",
   "execution_count": 101,
   "metadata": {},
   "outputs": [
    {
     "name": "stderr",
     "output_type": "stream",
     "text": [
      "c:\\Users\\S\\AppData\\Local\\Programs\\Python\\Python310\\lib\\site-packages\\sklearn\\feature_selection\\_univariate_selection.py:110: UserWarning: Features [16 42] are constant.\n",
      "  warnings.warn(\"Features %s are constant.\" % constant_features_idx, UserWarning)\n",
      "c:\\Users\\S\\AppData\\Local\\Programs\\Python\\Python310\\lib\\site-packages\\sklearn\\feature_selection\\_univariate_selection.py:111: RuntimeWarning: invalid value encountered in divide\n",
      "  f = msb / msw\n"
     ]
    }
   ],
   "source": [
    "feature_selector = SelectKBest(f_classif, k=20)\n",
    "feature_selector.fit(X_train_data, y)\n",
    "top_features = feature_selector.get_feature_names_out()\n",
    "X = X_train_data[top_features]"
   ]
  },
  {
   "cell_type": "code",
   "execution_count": 102,
   "metadata": {},
   "outputs": [
    {
     "data": {
      "text/plain": [
       "array(['NAME_CONTRACT_TYPE', 'FLAG_OWN_CAR', 'AMT_CREDIT',\n",
       "       'AMT_GOODS_PRICE', 'NAME_INCOME_TYPE', 'NAME_EDUCATION_TYPE',\n",
       "       'NAME_HOUSING_TYPE', 'REGION_POPULATION_RELATIVE', 'DAYS_EMPLOYED',\n",
       "       'DAYS_REGISTRATION', 'DAYS_ID_PUBLISH', 'REGION_RATING_CLIENT',\n",
       "       'REGION_RATING_CLIENT_W_CITY', 'REG_CITY_NOT_LIVE_CITY',\n",
       "       'REG_CITY_NOT_WORK_CITY', 'EXT_SOURCE_2', 'EXT_SOURCE_3',\n",
       "       'DEF_30_CNT_SOCIAL_CIRCLE', 'DAYS_LAST_PHONE_CHANGE',\n",
       "       'FLAG_DOCUMENT_3'], dtype=object)"
      ]
     },
     "execution_count": 102,
     "metadata": {},
     "output_type": "execute_result"
    }
   ],
   "source": [
    "top_features"
   ]
  },
  {
   "cell_type": "code",
   "execution_count": 103,
   "metadata": {},
   "outputs": [
    {
     "data": {
      "text/html": [
       "<div>\n",
       "<style scoped>\n",
       "    .dataframe tbody tr th:only-of-type {\n",
       "        vertical-align: middle;\n",
       "    }\n",
       "\n",
       "    .dataframe tbody tr th {\n",
       "        vertical-align: top;\n",
       "    }\n",
       "\n",
       "    .dataframe thead th {\n",
       "        text-align: right;\n",
       "    }\n",
       "</style>\n",
       "<table border=\"1\" class=\"dataframe\">\n",
       "  <thead>\n",
       "    <tr style=\"text-align: right;\">\n",
       "      <th></th>\n",
       "      <th>NAME_CONTRACT_TYPE</th>\n",
       "      <th>FLAG_OWN_CAR</th>\n",
       "      <th>AMT_CREDIT</th>\n",
       "      <th>AMT_GOODS_PRICE</th>\n",
       "      <th>NAME_INCOME_TYPE</th>\n",
       "      <th>NAME_EDUCATION_TYPE</th>\n",
       "      <th>NAME_HOUSING_TYPE</th>\n",
       "      <th>REGION_POPULATION_RELATIVE</th>\n",
       "      <th>DAYS_EMPLOYED</th>\n",
       "      <th>DAYS_REGISTRATION</th>\n",
       "      <th>DAYS_ID_PUBLISH</th>\n",
       "      <th>REGION_RATING_CLIENT</th>\n",
       "      <th>REGION_RATING_CLIENT_W_CITY</th>\n",
       "      <th>REG_CITY_NOT_LIVE_CITY</th>\n",
       "      <th>REG_CITY_NOT_WORK_CITY</th>\n",
       "      <th>EXT_SOURCE_2</th>\n",
       "      <th>EXT_SOURCE_3</th>\n",
       "      <th>DEF_30_CNT_SOCIAL_CIRCLE</th>\n",
       "      <th>DAYS_LAST_PHONE_CHANGE</th>\n",
       "      <th>FLAG_DOCUMENT_3</th>\n",
       "      <th>IsSingle</th>\n",
       "      <th>IsMale</th>\n",
       "      <th>IsYoung</th>\n",
       "    </tr>\n",
       "  </thead>\n",
       "  <tbody>\n",
       "    <tr>\n",
       "      <th>0</th>\n",
       "      <td>0.0</td>\n",
       "      <td>0.0</td>\n",
       "      <td>-0.524397</td>\n",
       "      <td>-0.550879</td>\n",
       "      <td>5.0</td>\n",
       "      <td>4.0</td>\n",
       "      <td>1.0</td>\n",
       "      <td>-0.134728</td>\n",
       "      <td>0.767265</td>\n",
       "      <td>0.304600</td>\n",
       "      <td>0.500716</td>\n",
       "      <td>-0.101555</td>\n",
       "      <td>-0.061264</td>\n",
       "      <td>-0.306372</td>\n",
       "      <td>-0.615023</td>\n",
       "      <td>-1.367968</td>\n",
       "      <td>-1.844872</td>\n",
       "      <td>4.166220</td>\n",
       "      <td>-0.150318</td>\n",
       "      <td>1.0</td>\n",
       "      <td>1</td>\n",
       "      <td>1</td>\n",
       "      <td>1</td>\n",
       "    </tr>\n",
       "    <tr>\n",
       "      <th>2</th>\n",
       "      <td>1.0</td>\n",
       "      <td>1.0</td>\n",
       "      <td>-1.190007</td>\n",
       "      <td>-1.127866</td>\n",
       "      <td>5.0</td>\n",
       "      <td>4.0</td>\n",
       "      <td>1.0</td>\n",
       "      <td>-0.784080</td>\n",
       "      <td>0.939402</td>\n",
       "      <td>0.116137</td>\n",
       "      <td>0.226888</td>\n",
       "      <td>-0.101555</td>\n",
       "      <td>-0.061264</td>\n",
       "      <td>-0.306372</td>\n",
       "      <td>-0.615023</td>\n",
       "      <td>0.191546</td>\n",
       "      <td>1.168123</td>\n",
       "      <td>-0.316554</td>\n",
       "      <td>0.231774</td>\n",
       "      <td>0.0</td>\n",
       "      <td>1</td>\n",
       "      <td>1</td>\n",
       "      <td>0</td>\n",
       "    </tr>\n",
       "    <tr>\n",
       "      <th>5</th>\n",
       "      <td>0.0</td>\n",
       "      <td>0.0</td>\n",
       "      <td>-0.318787</td>\n",
       "      <td>-0.274406</td>\n",
       "      <td>3.0</td>\n",
       "      <td>4.0</td>\n",
       "      <td>1.0</td>\n",
       "      <td>1.123470</td>\n",
       "      <td>0.369929</td>\n",
       "      <td>-0.102505</td>\n",
       "      <td>1.595361</td>\n",
       "      <td>-0.101555</td>\n",
       "      <td>-0.061264</td>\n",
       "      <td>-0.306372</td>\n",
       "      <td>-0.615023</td>\n",
       "      <td>-0.882084</td>\n",
       "      <td>0.615033</td>\n",
       "      <td>-0.316554</td>\n",
       "      <td>-1.829607</td>\n",
       "      <td>1.0</td>\n",
       "      <td>0</td>\n",
       "      <td>1</td>\n",
       "      <td>0</td>\n",
       "    </tr>\n",
       "    <tr>\n",
       "      <th>6</th>\n",
       "      <td>0.0</td>\n",
       "      <td>1.0</td>\n",
       "      <td>2.304051</td>\n",
       "      <td>2.237890</td>\n",
       "      <td>1.0</td>\n",
       "      <td>1.0</td>\n",
       "      <td>1.0</td>\n",
       "      <td>1.123470</td>\n",
       "      <td>-0.274331</td>\n",
       "      <td>1.054450</td>\n",
       "      <td>1.500753</td>\n",
       "      <td>-0.101555</td>\n",
       "      <td>-0.061264</td>\n",
       "      <td>-0.306372</td>\n",
       "      <td>-0.615023</td>\n",
       "      <td>1.086317</td>\n",
       "      <td>-0.044376</td>\n",
       "      <td>-0.316554</td>\n",
       "      <td>-0.662969</td>\n",
       "      <td>0.0</td>\n",
       "      <td>0</td>\n",
       "      <td>0</td>\n",
       "      <td>0</td>\n",
       "    </tr>\n",
       "    <tr>\n",
       "      <th>7</th>\n",
       "      <td>0.0</td>\n",
       "      <td>1.0</td>\n",
       "      <td>2.228750</td>\n",
       "      <td>2.598507</td>\n",
       "      <td>3.0</td>\n",
       "      <td>1.0</td>\n",
       "      <td>1.0</td>\n",
       "      <td>-1.295771</td>\n",
       "      <td>0.845813</td>\n",
       "      <td>0.012359</td>\n",
       "      <td>0.328158</td>\n",
       "      <td>1.888406</td>\n",
       "      <td>1.948486</td>\n",
       "      <td>-0.306372</td>\n",
       "      <td>1.625956</td>\n",
       "      <td>1.034572</td>\n",
       "      <td>0.203704</td>\n",
       "      <td>-0.316554</td>\n",
       "      <td>-0.073660</td>\n",
       "      <td>1.0</td>\n",
       "      <td>0</td>\n",
       "      <td>1</td>\n",
       "      <td>0</td>\n",
       "    </tr>\n",
       "    <tr>\n",
       "      <th>...</th>\n",
       "      <td>...</td>\n",
       "      <td>...</td>\n",
       "      <td>...</td>\n",
       "      <td>...</td>\n",
       "      <td>...</td>\n",
       "      <td>...</td>\n",
       "      <td>...</td>\n",
       "      <td>...</td>\n",
       "      <td>...</td>\n",
       "      <td>...</td>\n",
       "      <td>...</td>\n",
       "      <td>...</td>\n",
       "      <td>...</td>\n",
       "      <td>...</td>\n",
       "      <td>...</td>\n",
       "      <td>...</td>\n",
       "      <td>...</td>\n",
       "      <td>...</td>\n",
       "      <td>...</td>\n",
       "      <td>...</td>\n",
       "      <td>...</td>\n",
       "      <td>...</td>\n",
       "      <td>...</td>\n",
       "    </tr>\n",
       "    <tr>\n",
       "      <th>307502</th>\n",
       "      <td>0.0</td>\n",
       "      <td>0.0</td>\n",
       "      <td>-0.969442</td>\n",
       "      <td>-0.887455</td>\n",
       "      <td>5.0</td>\n",
       "      <td>4.0</td>\n",
       "      <td>1.0</td>\n",
       "      <td>-0.714916</td>\n",
       "      <td>-2.616565</td>\n",
       "      <td>-1.242523</td>\n",
       "      <td>-1.105607</td>\n",
       "      <td>-0.101555</td>\n",
       "      <td>-0.061264</td>\n",
       "      <td>-0.306372</td>\n",
       "      <td>1.625956</td>\n",
       "      <td>-1.099756</td>\n",
       "      <td>1.196989</td>\n",
       "      <td>-0.316554</td>\n",
       "      <td>-0.607871</td>\n",
       "      <td>1.0</td>\n",
       "      <td>0</td>\n",
       "      <td>0</td>\n",
       "      <td>0</td>\n",
       "    </tr>\n",
       "    <tr>\n",
       "      <th>307503</th>\n",
       "      <td>0.0</td>\n",
       "      <td>0.0</td>\n",
       "      <td>-0.674106</td>\n",
       "      <td>-0.827352</td>\n",
       "      <td>1.0</td>\n",
       "      <td>1.0</td>\n",
       "      <td>1.0</td>\n",
       "      <td>0.161401</td>\n",
       "      <td>0.866703</td>\n",
       "      <td>1.220125</td>\n",
       "      <td>-0.709190</td>\n",
       "      <td>-0.101555</td>\n",
       "      <td>-0.061264</td>\n",
       "      <td>-0.306372</td>\n",
       "      <td>-0.615023</td>\n",
       "      <td>-0.099588</td>\n",
       "      <td>0.554023</td>\n",
       "      <td>6.407607</td>\n",
       "      <td>-1.564898</td>\n",
       "      <td>1.0</td>\n",
       "      <td>1</td>\n",
       "      <td>0</td>\n",
       "      <td>0</td>\n",
       "    </tr>\n",
       "    <tr>\n",
       "      <th>307508</th>\n",
       "      <td>0.0</td>\n",
       "      <td>0.0</td>\n",
       "      <td>0.139911</td>\n",
       "      <td>0.074190</td>\n",
       "      <td>5.0</td>\n",
       "      <td>1.0</td>\n",
       "      <td>1.0</td>\n",
       "      <td>-1.156556</td>\n",
       "      <td>-2.276051</td>\n",
       "      <td>-0.646647</td>\n",
       "      <td>-1.518015</td>\n",
       "      <td>1.888406</td>\n",
       "      <td>1.948486</td>\n",
       "      <td>-0.306372</td>\n",
       "      <td>1.625956</td>\n",
       "      <td>0.084068</td>\n",
       "      <td>-1.439100</td>\n",
       "      <td>-0.316554</td>\n",
       "      <td>-1.078599</td>\n",
       "      <td>1.0</td>\n",
       "      <td>0</td>\n",
       "      <td>0</td>\n",
       "      <td>0</td>\n",
       "    </tr>\n",
       "    <tr>\n",
       "      <th>307509</th>\n",
       "      <td>0.0</td>\n",
       "      <td>0.0</td>\n",
       "      <td>-0.613825</td>\n",
       "      <td>-0.635023</td>\n",
       "      <td>1.0</td>\n",
       "      <td>4.0</td>\n",
       "      <td>1.0</td>\n",
       "      <td>-1.133526</td>\n",
       "      <td>-0.966222</td>\n",
       "      <td>0.639030</td>\n",
       "      <td>1.292884</td>\n",
       "      <td>-0.101555</td>\n",
       "      <td>-0.061264</td>\n",
       "      <td>3.264004</td>\n",
       "      <td>1.625956</td>\n",
       "      <td>-0.030695</td>\n",
       "      <td>0.818202</td>\n",
       "      <td>-0.316554</td>\n",
       "      <td>0.822280</td>\n",
       "      <td>1.0</td>\n",
       "      <td>0</td>\n",
       "      <td>0</td>\n",
       "      <td>0</td>\n",
       "    </tr>\n",
       "    <tr>\n",
       "      <th>307510</th>\n",
       "      <td>0.0</td>\n",
       "      <td>0.0</td>\n",
       "      <td>0.133383</td>\n",
       "      <td>0.314601</td>\n",
       "      <td>1.0</td>\n",
       "      <td>1.0</td>\n",
       "      <td>1.0</td>\n",
       "      <td>1.895672</td>\n",
       "      <td>0.506135</td>\n",
       "      <td>-0.151161</td>\n",
       "      <td>1.639999</td>\n",
       "      <td>-2.091516</td>\n",
       "      <td>-2.071013</td>\n",
       "      <td>-0.306372</td>\n",
       "      <td>1.625956</td>\n",
       "      <td>1.004174</td>\n",
       "      <td>-1.974814</td>\n",
       "      <td>-0.316554</td>\n",
       "      <td>0.265312</td>\n",
       "      <td>1.0</td>\n",
       "      <td>0</td>\n",
       "      <td>0</td>\n",
       "      <td>0</td>\n",
       "    </tr>\n",
       "  </tbody>\n",
       "</table>\n",
       "<p>167732 rows × 23 columns</p>\n",
       "</div>"
      ],
      "text/plain": [
       "        NAME_CONTRACT_TYPE  FLAG_OWN_CAR  AMT_CREDIT  AMT_GOODS_PRICE  \\\n",
       "0                      0.0           0.0   -0.524397        -0.550879   \n",
       "2                      1.0           1.0   -1.190007        -1.127866   \n",
       "5                      0.0           0.0   -0.318787        -0.274406   \n",
       "6                      0.0           1.0    2.304051         2.237890   \n",
       "7                      0.0           1.0    2.228750         2.598507   \n",
       "...                    ...           ...         ...              ...   \n",
       "307502                 0.0           0.0   -0.969442        -0.887455   \n",
       "307503                 0.0           0.0   -0.674106        -0.827352   \n",
       "307508                 0.0           0.0    0.139911         0.074190   \n",
       "307509                 0.0           0.0   -0.613825        -0.635023   \n",
       "307510                 0.0           0.0    0.133383         0.314601   \n",
       "\n",
       "        NAME_INCOME_TYPE  NAME_EDUCATION_TYPE  NAME_HOUSING_TYPE  \\\n",
       "0                    5.0                  4.0                1.0   \n",
       "2                    5.0                  4.0                1.0   \n",
       "5                    3.0                  4.0                1.0   \n",
       "6                    1.0                  1.0                1.0   \n",
       "7                    3.0                  1.0                1.0   \n",
       "...                  ...                  ...                ...   \n",
       "307502               5.0                  4.0                1.0   \n",
       "307503               1.0                  1.0                1.0   \n",
       "307508               5.0                  1.0                1.0   \n",
       "307509               1.0                  4.0                1.0   \n",
       "307510               1.0                  1.0                1.0   \n",
       "\n",
       "        REGION_POPULATION_RELATIVE  DAYS_EMPLOYED  DAYS_REGISTRATION  \\\n",
       "0                        -0.134728       0.767265           0.304600   \n",
       "2                        -0.784080       0.939402           0.116137   \n",
       "5                         1.123470       0.369929          -0.102505   \n",
       "6                         1.123470      -0.274331           1.054450   \n",
       "7                        -1.295771       0.845813           0.012359   \n",
       "...                            ...            ...                ...   \n",
       "307502                   -0.714916      -2.616565          -1.242523   \n",
       "307503                    0.161401       0.866703           1.220125   \n",
       "307508                   -1.156556      -2.276051          -0.646647   \n",
       "307509                   -1.133526      -0.966222           0.639030   \n",
       "307510                    1.895672       0.506135          -0.151161   \n",
       "\n",
       "        DAYS_ID_PUBLISH  REGION_RATING_CLIENT  REGION_RATING_CLIENT_W_CITY  \\\n",
       "0              0.500716             -0.101555                    -0.061264   \n",
       "2              0.226888             -0.101555                    -0.061264   \n",
       "5              1.595361             -0.101555                    -0.061264   \n",
       "6              1.500753             -0.101555                    -0.061264   \n",
       "7              0.328158              1.888406                     1.948486   \n",
       "...                 ...                   ...                          ...   \n",
       "307502        -1.105607             -0.101555                    -0.061264   \n",
       "307503        -0.709190             -0.101555                    -0.061264   \n",
       "307508        -1.518015              1.888406                     1.948486   \n",
       "307509         1.292884             -0.101555                    -0.061264   \n",
       "307510         1.639999             -2.091516                    -2.071013   \n",
       "\n",
       "        REG_CITY_NOT_LIVE_CITY  REG_CITY_NOT_WORK_CITY  EXT_SOURCE_2  \\\n",
       "0                    -0.306372               -0.615023     -1.367968   \n",
       "2                    -0.306372               -0.615023      0.191546   \n",
       "5                    -0.306372               -0.615023     -0.882084   \n",
       "6                    -0.306372               -0.615023      1.086317   \n",
       "7                    -0.306372                1.625956      1.034572   \n",
       "...                        ...                     ...           ...   \n",
       "307502               -0.306372                1.625956     -1.099756   \n",
       "307503               -0.306372               -0.615023     -0.099588   \n",
       "307508               -0.306372                1.625956      0.084068   \n",
       "307509                3.264004                1.625956     -0.030695   \n",
       "307510               -0.306372                1.625956      1.004174   \n",
       "\n",
       "        EXT_SOURCE_3  DEF_30_CNT_SOCIAL_CIRCLE  DAYS_LAST_PHONE_CHANGE  \\\n",
       "0          -1.844872                  4.166220               -0.150318   \n",
       "2           1.168123                 -0.316554                0.231774   \n",
       "5           0.615033                 -0.316554               -1.829607   \n",
       "6          -0.044376                 -0.316554               -0.662969   \n",
       "7           0.203704                 -0.316554               -0.073660   \n",
       "...              ...                       ...                     ...   \n",
       "307502      1.196989                 -0.316554               -0.607871   \n",
       "307503      0.554023                  6.407607               -1.564898   \n",
       "307508     -1.439100                 -0.316554               -1.078599   \n",
       "307509      0.818202                 -0.316554                0.822280   \n",
       "307510     -1.974814                 -0.316554                0.265312   \n",
       "\n",
       "        FLAG_DOCUMENT_3  IsSingle  IsMale  IsYoung  \n",
       "0                   1.0         1       1        1  \n",
       "2                   0.0         1       1        0  \n",
       "5                   1.0         0       1        0  \n",
       "6                   0.0         0       0        0  \n",
       "7                   1.0         0       1        0  \n",
       "...                 ...       ...     ...      ...  \n",
       "307502              1.0         0       0        0  \n",
       "307503              1.0         1       0        0  \n",
       "307508              1.0         0       0        0  \n",
       "307509              1.0         0       0        0  \n",
       "307510              1.0         0       0        0  \n",
       "\n",
       "[167732 rows x 23 columns]"
      ]
     },
     "execution_count": 103,
     "metadata": {},
     "output_type": "execute_result"
    }
   ],
   "source": [
    "X = pd.concat((X, protected), axis=1)\n",
    "X.drop(columns=['TARGET'], inplace=True)\n",
    "X"
   ]
  },
  {
   "cell_type": "code",
   "execution_count": 105,
   "metadata": {},
   "outputs": [
    {
     "name": "stdout",
     "output_type": "stream",
     "text": [
      "(93929, 23) (40256, 23) (33547, 23)\n"
     ]
    }
   ],
   "source": [
    "X_train, X_test, y_train, y_test = train_test_split(X, y, test_size=0.2, stratify=y, random_state=1)\n",
    "X_train, X_val, y_train, y_val = train_test_split(X_train, y_train, test_size = 0.3, stratify=y_train, random_state =1)\n",
    "print(X_train.shape, X_val.shape, X_test.shape)"
   ]
  },
  {
   "cell_type": "markdown",
   "metadata": {},
   "source": [
    "## Visualizations"
   ]
  },
  {
   "cell_type": "code",
   "execution_count": null,
   "metadata": {},
   "outputs": [],
   "source": [
    "train = pd.concat((X_train, y_train), axis=1)\n",
    "val = pd.concat((X_val, y_val), axis=1)"
   ]
  },
  {
   "cell_type": "code",
   "execution_count": null,
   "metadata": {},
   "outputs": [],
   "source": [
    "# xgboost\n",
    "xgb_clf = xgboost.XGBClassifier()\n",
    "xgb_clf.fit(X_train, y_train)"
   ]
  },
  {
   "cell_type": "code",
   "execution_count": 117,
   "metadata": {},
   "outputs": [],
   "source": [
    "y_train_pred = xgb_clf.predict_proba(X_train)\n",
    "y_val_pred = xgb_clf.predict_proba(X_val)\n",
    "train['Prob'] = y_train_pred[:,1] # probability of class 1\n",
    "val = X_val.copy()\n",
    "val['Prob'] = y_val_pred[:,1] # probability of class 1\n",
    "val = pd.concat((val, y_val), axis=1)"
   ]
  },
  {
   "cell_type": "code",
   "execution_count": 118,
   "metadata": {},
   "outputs": [
    {
     "data": {
      "text/html": [
       "<div>\n",
       "<style scoped>\n",
       "    .dataframe tbody tr th:only-of-type {\n",
       "        vertical-align: middle;\n",
       "    }\n",
       "\n",
       "    .dataframe tbody tr th {\n",
       "        vertical-align: top;\n",
       "    }\n",
       "\n",
       "    .dataframe thead th {\n",
       "        text-align: right;\n",
       "    }\n",
       "</style>\n",
       "<table border=\"1\" class=\"dataframe\">\n",
       "  <thead>\n",
       "    <tr style=\"text-align: right;\">\n",
       "      <th></th>\n",
       "      <th>IsMale</th>\n",
       "      <th>Prob</th>\n",
       "      <th>TARGET</th>\n",
       "    </tr>\n",
       "  </thead>\n",
       "  <tbody>\n",
       "    <tr>\n",
       "      <th>84267</th>\n",
       "      <td>0</td>\n",
       "      <td>0.039330</td>\n",
       "      <td>0</td>\n",
       "    </tr>\n",
       "    <tr>\n",
       "      <th>80798</th>\n",
       "      <td>0</td>\n",
       "      <td>0.026947</td>\n",
       "      <td>0</td>\n",
       "    </tr>\n",
       "    <tr>\n",
       "      <th>49136</th>\n",
       "      <td>1</td>\n",
       "      <td>0.009972</td>\n",
       "      <td>0</td>\n",
       "    </tr>\n",
       "    <tr>\n",
       "      <th>265863</th>\n",
       "      <td>1</td>\n",
       "      <td>0.078206</td>\n",
       "      <td>0</td>\n",
       "    </tr>\n",
       "    <tr>\n",
       "      <th>92514</th>\n",
       "      <td>1</td>\n",
       "      <td>0.069370</td>\n",
       "      <td>0</td>\n",
       "    </tr>\n",
       "    <tr>\n",
       "      <th>...</th>\n",
       "      <td>...</td>\n",
       "      <td>...</td>\n",
       "      <td>...</td>\n",
       "    </tr>\n",
       "    <tr>\n",
       "      <th>171392</th>\n",
       "      <td>1</td>\n",
       "      <td>0.095860</td>\n",
       "      <td>1</td>\n",
       "    </tr>\n",
       "    <tr>\n",
       "      <th>157391</th>\n",
       "      <td>0</td>\n",
       "      <td>0.038661</td>\n",
       "      <td>0</td>\n",
       "    </tr>\n",
       "    <tr>\n",
       "      <th>289174</th>\n",
       "      <td>0</td>\n",
       "      <td>0.033584</td>\n",
       "      <td>0</td>\n",
       "    </tr>\n",
       "    <tr>\n",
       "      <th>166638</th>\n",
       "      <td>1</td>\n",
       "      <td>0.073244</td>\n",
       "      <td>0</td>\n",
       "    </tr>\n",
       "    <tr>\n",
       "      <th>166098</th>\n",
       "      <td>0</td>\n",
       "      <td>0.172614</td>\n",
       "      <td>1</td>\n",
       "    </tr>\n",
       "  </tbody>\n",
       "</table>\n",
       "<p>93929 rows × 3 columns</p>\n",
       "</div>"
      ],
      "text/plain": [
       "        IsMale      Prob  TARGET\n",
       "84267        0  0.039330       0\n",
       "80798        0  0.026947       0\n",
       "49136        1  0.009972       0\n",
       "265863       1  0.078206       0\n",
       "92514        1  0.069370       0\n",
       "...        ...       ...     ...\n",
       "171392       1  0.095860       1\n",
       "157391       0  0.038661       0\n",
       "289174       0  0.033584       0\n",
       "166638       1  0.073244       0\n",
       "166098       0  0.172614       1\n",
       "\n",
       "[93929 rows x 3 columns]"
      ]
     },
     "execution_count": 118,
     "metadata": {},
     "output_type": "execute_result"
    }
   ],
   "source": [
    "gender = train[['IsMale','Prob','TARGET']]\n",
    "marital = train[['IsSingle','Prob','TARGET']]\n",
    "age = train[['IsYoung','Prob','TARGET']]\n",
    "gender"
   ]
  },
  {
   "cell_type": "markdown",
   "metadata": {},
   "source": [
    "### Predicted probability of class 1 using XGBoost"
   ]
  },
  {
   "cell_type": "code",
   "execution_count": 119,
   "metadata": {},
   "outputs": [
    {
     "data": {
      "image/png": "[encoded data removed]",
      "text/plain": [
       "<Figure size 402.375x360 with 1 Axes>"
      ]
     },
     "metadata": {
      "needs_background": "light"
     },
     "output_type": "display_data"
    }
   ],
   "source": [
    "# probability of belonging to class 1\n",
    "g = sns.displot(data=gender, x=\"Prob\", hue=\"IsMale\", alpha=0.5)"
   ]
  },
  {
   "cell_type": "code",
   "execution_count": null,
   "metadata": {},
   "outputs": [
    {
     "data": {
      "image/png": "[encoded data removed]",
      "text/plain": [
       "<Figure size 407x360 with 1 Axes>"
      ]
     },
     "metadata": {},
     "output_type": "display_data"
    }
   ],
   "source": [
    "# probability of belonging to class 1\n",
    "g = sns.displot(data=marital, x=\"Prob\", hue=\"IsSingle\", alpha=0.5)"
   ]
  },
  {
   "cell_type": "code",
   "execution_count": 120,
   "metadata": {},
   "outputs": [
    {
     "data": {
      "image/png": "[encoded data removed]",
      "text/plain": [
       "<Figure size 405.875x360 with 1 Axes>"
      ]
     },
     "metadata": {
      "needs_background": "light"
     },
     "output_type": "display_data"
    }
   ],
   "source": [
    "# probability of belonging to class 1\n",
    "g = sns.displot(data=age, x=\"Prob\", hue=\"IsYoung\", alpha=0.5)"
   ]
  },
  {
   "cell_type": "markdown",
   "metadata": {},
   "source": [
    "### Proportion of unfavorable outcome for each group in the dataset"
   ]
  },
  {
   "cell_type": "markdown",
   "metadata": {},
   "source": [
    "According to the proportion of unfavorable outcome (target=1) in each group, we have the following.  \n",
    "Gender: male(unprivileged), female(privileged)  \n",
    "Marital status: Single(unprivileged), not single(privileged)  \n",
    "Age: Under or equal to 30(unprivileged), older than 30(privileged)"
   ]
  },
  {
   "cell_type": "code",
   "execution_count": 121,
   "metadata": {},
   "outputs": [
    {
     "data": {
      "text/plain": [
       "<AxesSubplot:xlabel='IsMale', ylabel='TARGET'>"
      ]
     },
     "execution_count": 121,
     "metadata": {},
     "output_type": "execute_result"
    },
    {
     "data": {
      "image/png": "[encoded data removed]",
      "text/plain": [
       "<Figure size 432x288 with 1 Axes>"
      ]
     },
     "metadata": {
      "needs_background": "light"
     },
     "output_type": "display_data"
    }
   ],
   "source": [
    "# proportion of unfavorable outcome (target=1) for each group\n",
    "sns.barplot(x=gender[\"IsMale\"], y=gender[\"TARGET\"])"
   ]
  },
  {
   "cell_type": "code",
   "execution_count": 122,
   "metadata": {},
   "outputs": [
    {
     "data": {
      "text/plain": [
       "<AxesSubplot:xlabel='IsSingle', ylabel='TARGET'>"
      ]
     },
     "execution_count": 122,
     "metadata": {},
     "output_type": "execute_result"
    },
    {
     "data": {
      "image/png": "[encoded data removed]",
      "text/plain": [
       "<Figure size 432x288 with 1 Axes>"
      ]
     },
     "metadata": {
      "needs_background": "light"
     },
     "output_type": "display_data"
    }
   ],
   "source": [
    "# proportion of unfavorable outcome (target=1) for each group\n",
    "sns.barplot(x=marital[\"IsSingle\"], y=marital[\"TARGET\"])"
   ]
  },
  {
   "cell_type": "code",
   "execution_count": 123,
   "metadata": {},
   "outputs": [
    {
     "data": {
      "text/plain": [
       "<AxesSubplot:xlabel='IsYoung', ylabel='TARGET'>"
      ]
     },
     "execution_count": 123,
     "metadata": {},
     "output_type": "execute_result"
    },
    {
     "data": {
      "image/png": "[encoded data removed]",
      "text/plain": [
       "<Figure size 432x288 with 1 Axes>"
      ]
     },
     "metadata": {
      "needs_background": "light"
     },
     "output_type": "display_data"
    }
   ],
   "source": [
    "# proportion of unfavorable outcome (target=1) for each group\n",
    "sns.barplot(x=age[\"IsYoung\"], y=age[\"TARGET\"])"
   ]
  },
  {
   "cell_type": "markdown",
   "metadata": {},
   "source": [
    "### Disparate impact"
   ]
  },
  {
   "cell_type": "code",
   "execution_count": 124,
   "metadata": {},
   "outputs": [],
   "source": [
    "def calc_prop(data, group_col, group, output_col, output_val):\n",
    "    new = data[data[group_col] == group]\n",
    "    return len(new[new[output_col] == output_val])/len(new)"
   ]
  },
  {
   "cell_type": "code",
   "execution_count": 125,
   "metadata": {},
   "outputs": [
    {
     "name": "stdout",
     "output_type": "stream",
     "text": [
      "proportion of privileged group receiving unfavorable outcome: 0.07552490843120734\n",
      "proportion of unprivileged group receiving unfavorable outcome: 0.09961985688729874\n"
     ]
    }
   ],
   "source": [
    "# calculate the proportion of the privileged group (female) receiving the unfavourable outcome (target=1)\n",
    "pr_priv = calc_prop(gender, \"IsMale\", 0, \"TARGET\", 1)\n",
    "# calculate the proportion of the unprivileged group (male) receiving the unfavourable outcome (target=1)\n",
    "pr_unpriv = calc_prop(gender, \"IsMale\", 1, \"TARGET\", 1)\n",
    "print(\"proportion of privileged group (female) receiving unfavorable outcome:\", pr_priv)\n",
    "print(\"proportion of unprivileged group (male) receiving unfavorable outcome:\", pr_unpriv)"
   ]
  },
  {
   "cell_type": "code",
   "execution_count": 126,
   "metadata": {},
   "outputs": [
    {
     "data": {
      "text/plain": [
       "1.319033136968826"
      ]
     },
     "execution_count": 126,
     "metadata": {},
     "output_type": "execute_result"
    }
   ],
   "source": [
    "# disparate impact\n",
    "pr_unpriv/pr_priv"
   ]
  },
  {
   "cell_type": "markdown",
   "metadata": {},
   "source": [
    "## Disparate Impact Remover"
   ]
  },
  {
   "cell_type": "code",
   "execution_count": 108,
   "metadata": {},
   "outputs": [],
   "source": [
    "from aif360.algorithms.preprocessing import DisparateImpactRemover\n",
    "from aif360 import datasets\n",
    "from aif360.metrics import BinaryLabelDatasetMetric, ClassificationMetric\n",
    "from aif360.explainers import MetricTextExplainer"
   ]
  },
  {
   "cell_type": "code",
   "execution_count": 216,
   "metadata": {},
   "outputs": [],
   "source": [
    "train_BLD = datasets.BinaryLabelDataset(favorable_label='0',\n",
    "                                unfavorable_label='1',\n",
    "                                df=train,\n",
    "                                label_names=['TARGET'],\n",
    "                                protected_attribute_names=['IsMale'],\n",
    "                                unprivileged_protected_attributes=['1'])\n",
    "test_BLD = datasets.BinaryLabelDataset(favorable_label='0',\n",
    "                                unfavorable_label='1',\n",
    "                                df=val,\n",
    "                                label_names=['TARGET'],\n",
    "                                protected_attribute_names=['IsMale'],\n",
    "                                unprivileged_protected_attributes=['0'])"
   ]
  },
  {
   "cell_type": "code",
   "execution_count": 229,
   "metadata": {},
   "outputs": [],
   "source": [
    "di = DisparateImpactRemover(repair_level=1.0, sensitive_attribute='IsMale')\n",
    "rp_train = di.fit_transform(train_BLD)\n",
    "rp_test = di.fit_transform(test_BLD)"
   ]
  },
  {
   "cell_type": "code",
   "execution_count": 230,
   "metadata": {},
   "outputs": [],
   "source": [
    "colnames = list(train.columns)\n",
    "colnames.remove('TARGET')\n",
    "colnames.append('TARGET')"
   ]
  },
  {
   "cell_type": "code",
   "execution_count": 231,
   "metadata": {},
   "outputs": [],
   "source": [
    "train_repaired = pd.DataFrame(np.hstack([rp_train.features,rp_train.labels]), columns=colnames)\n",
    "test_repaired = pd.DataFrame(np.hstack([rp_test.features,rp_test.labels]), columns=colnames)"
   ]
  },
  {
   "cell_type": "code",
   "execution_count": 232,
   "metadata": {},
   "outputs": [
    {
     "data": {
      "text/plain": [
       "(93929, 25)"
      ]
     },
     "execution_count": 232,
     "metadata": {},
     "output_type": "execute_result"
    }
   ],
   "source": [
    "train.shape"
   ]
  },
  {
   "cell_type": "code",
   "execution_count": 233,
   "metadata": {},
   "outputs": [
    {
     "data": {
      "text/plain": [
       "(93929, 25)"
      ]
     },
     "execution_count": 233,
     "metadata": {},
     "output_type": "execute_result"
    }
   ],
   "source": [
    "train_repaired.shape"
   ]
  },
  {
   "cell_type": "code",
   "execution_count": 234,
   "metadata": {},
   "outputs": [
    {
     "name": "stdout",
     "output_type": "stream",
     "text": [
      "accuracy score: 0.9216017488076311\n"
     ]
    }
   ],
   "source": [
    "# After removing bias from data, build a new model and check performance\n",
    "xgb_new = XGBClassifier()\n",
    "X_train_rp, y_train_rp = train_repaired.drop(columns=['TARGET']), train_repaired['TARGET']\n",
    "X_test_rp, y_test_rp = test_repaired.drop(columns=['TARGET']), test_repaired['TARGET']\n",
    "xgb_new.fit(X_train_rp, y_train_rp)\n",
    "print('accuracy score:',xgb_new.score(X_test_rp, y_test_rp))"
   ]
  },
  {
   "cell_type": "code",
   "execution_count": 235,
   "metadata": {},
   "outputs": [],
   "source": [
    "y_train_prob = xgb_new.predict_proba(X_train_rp)\n",
    "y_test_prob = xgb_new.predict_proba(X_test_rp)\n",
    "\n",
    "train_repaired['Prob'] = y_train_prob[:,1]\n",
    "test_repaired['Prob'] = y_test_prob[:,1]"
   ]
  },
  {
   "cell_type": "code",
   "execution_count": 236,
   "metadata": {},
   "outputs": [
    {
     "data": {
      "text/plain": [
       "<seaborn.axisgrid.FacetGrid at 0x1e520f67970>"
      ]
     },
     "execution_count": 236,
     "metadata": {},
     "output_type": "execute_result"
    },
    {
     "data": {
      "image/png": "[encoded data removed]",
      "text/plain": [
       "<Figure size 411.875x360 with 1 Axes>"
      ]
     },
     "metadata": {
      "needs_background": "light"
     },
     "output_type": "display_data"
    },
    {
     "data": {
      "image/png": "[encoded data removed]",
      "text/plain": [
       "<Figure size 411.875x360 with 1 Axes>"
      ]
     },
     "metadata": {
      "needs_background": "light"
     },
     "output_type": "display_data"
    }
   ],
   "source": [
    "sns.displot(data=train_repaired, x=\"Prob\", hue='IsMale', alpha=0.5)\n",
    "sns.displot(data=test_repaired, x=\"Prob\", hue='IsMale', alpha=0.5)"
   ]
  },
  {
   "cell_type": "code",
   "execution_count": 237,
   "metadata": {},
   "outputs": [
    {
     "name": "stdout",
     "output_type": "stream",
     "text": [
      "proportion of privileged group (female) receiving unfavorable outcome: 0.07612763046714682\n",
      "proportion of unprivileged group (male) receiving unfavorable outcome: 0.09855223008504836\n"
     ]
    }
   ],
   "source": [
    "# calculate the proportion of the privileged group (female) receiving the unfavourable outcome (target=1)\n",
    "pr_priv = calc_prop(test_repaired, \"IsMale\", 0, \"TARGET\", 1)\n",
    "# calculate the proportion of the unprivileged group (male) receiving the unfavourable outcome (target=1)\n",
    "pr_unpriv = calc_prop(test_repaired, \"IsMale\", 1, \"TARGET\", 1)\n",
    "print(\"proportion of privileged group (female) receiving unfavorable outcome:\", pr_priv)\n",
    "print(\"proportion of unprivileged group (male) receiving unfavorable outcome:\", pr_unpriv)"
   ]
  },
  {
   "cell_type": "code",
   "execution_count": 238,
   "metadata": {},
   "outputs": [
    {
     "data": {
      "text/plain": [
       "1.2945658426552362"
      ]
     },
     "execution_count": 238,
     "metadata": {},
     "output_type": "execute_result"
    }
   ],
   "source": [
    "pr_unpriv/pr_priv"
   ]
  },
  {
   "cell_type": "markdown",
   "metadata": {},
   "source": [
    "## Fairness measure on predicted data"
   ]
  },
  {
   "cell_type": "code",
   "execution_count": 38,
   "metadata": {},
   "outputs": [],
   "source": [
    "train_f = datasets.BinaryLabelDataset(favorable_label = 0, unfavorable_label = 1, df=train,\n",
    "                                                      label_names=[\"TARGET\"],\n",
    "                                                     protected_attribute_names=[\"IsYoung\",\"IsMale\",\"IsSingle\"],\n",
    "                                              privileged_protected_attributes = [0,0,0])"
   ]
  },
  {
   "cell_type": "code",
   "execution_count": 48,
   "metadata": {},
   "outputs": [],
   "source": [
    "pred_f = datasets.BinaryLabelDataset(favorable_label = 0.0, unfavorable_label = 1.0, df=X_val_pred,\n",
    "                                                      label_names=[\"TARGET\"],\n",
    "                                                     protected_attribute_names=[\"IsYoung\",\"IsMale\",\"IsSingle\"],\n",
    "                                              privileged_protected_attributes = [0,0,0])"
   ]
  },
  {
   "cell_type": "markdown",
   "metadata": {},
   "source": [
    "## Removing Bias"
   ]
  },
  {
   "cell_type": "code",
   "execution_count": 52,
   "metadata": {},
   "outputs": [],
   "source": [
    "from aif360.algorithms.preprocessing import DisparateImpactRemover\n",
    "from aif360.algorithms.inprocessing import PrejudiceRemover"
   ]
  },
  {
   "cell_type": "code",
   "execution_count": 53,
   "metadata": {},
   "outputs": [],
   "source": [
    "from collections import defaultdict\n",
    "\n",
    "def test(dataset, model, thresh_arr):\n",
    "    try:\n",
    "        # sklearn classifier\n",
    "        y_val_pred_prob = model.predict_proba(dataset.features)\n",
    "        pos_ind = np.where(model.classes_ == dataset.favorable_label)[0][0]\n",
    "    except AttributeError:\n",
    "        # aif360 inprocessing algorithm\n",
    "        y_val_pred_prob = model.predict(dataset).scores\n",
    "        pos_ind = 0\n",
    "    \n",
    "    metric_arrs = defaultdict(list)\n",
    "    for thresh in thresh_arr:\n",
    "        y_val_pred = (y_val_pred_prob[:, pos_ind] > thresh).astype(np.float64)\n",
    "\n",
    "        dataset_pred = dataset.copy()\n",
    "        dataset_pred.labels = y_val_pred\n",
    "        metric = ClassificationMetric(\n",
    "                dataset, dataset_pred,\n",
    "                unprivileged_groups=unprivileged_groups,\n",
    "                privileged_groups=privileged_groups)\n",
    "\n",
    "        metric_arrs['bal_acc'].append((metric.true_positive_rate()\n",
    "                                     + metric.true_negative_rate()) / 2)\n",
    "        metric_arrs['avg_odds_diff'].append(metric.average_odds_difference())\n",
    "        metric_arrs['disp_imp'].append(metric.disparate_impact())\n",
    "        metric_arrs['stat_par_diff'].append(metric.statistical_parity_difference())\n",
    "        metric_arrs['eq_opp_diff'].append(metric.equal_opportunity_difference())\n",
    "        metric_arrs['theil_ind'].append(metric.theil_index())\n",
    "    \n",
    "    return metric_arrs"
   ]
  },
  {
   "cell_type": "code",
   "execution_count": 61,
   "metadata": {},
   "outputs": [],
   "source": [
    "val_f = datasets.BinaryLabelDataset(favorable_label = 0.0, unfavorable_label = 1.0, df=val,\n",
    "                                                      label_names=[\"TARGET\"],\n",
    "                                                     protected_attribute_names=[\"IsYoung\",\"IsMale\",\"IsSingle\"],\n",
    "                                              privileged_protected_attributes = [0,0,0])"
   ]
  },
  {
   "cell_type": "code",
   "execution_count": 100,
   "metadata": {},
   "outputs": [
    {
     "name": "stderr",
     "output_type": "stream",
     "text": [
      "c:\\Users\\S\\AppData\\Local\\Programs\\Python\\Python310\\lib\\site-packages\\aif360\\metrics\\dataset_metric.py:82: RuntimeWarning: invalid value encountered in scalar divide\n",
      "  return metric_fun(privileged=False) / metric_fun(privileged=True)\n"
     ]
    }
   ],
   "source": [
    "thresh_arr = np.linspace(0.01, 1, 10)\n",
    "val_metrics = test(dataset=val_f,\n",
    "                   model=xgb_clf,\n",
    "                   thresh_arr=thresh_arr)\n",
    "orig_best_ind = np.argmax(val_metrics['bal_acc'])"
   ]
  },
  {
   "cell_type": "code",
   "execution_count": 102,
   "metadata": {},
   "outputs": [
    {
     "data": {
      "text/plain": [
       "[<matplotlib.lines.Line2D at 0x27ed9dcc0a0>]"
      ]
     },
     "execution_count": 102,
     "metadata": {},
     "output_type": "execute_result"
    },
    {
     "data": {
      "image/png": "[encoded data removed]",
      "text/plain": [
       "<Figure size 432x288 with 1 Axes>"
      ]
     },
     "metadata": {
      "needs_background": "light"
     },
     "output_type": "display_data"
    }
   ],
   "source": [
    "plt.plot(thresh_arr, val_metrics['disp_imp'])"
   ]
  },
  {
   "cell_type": "code",
   "execution_count": 67,
   "metadata": {},
   "outputs": [],
   "source": [
    "def describe_metrics(metrics, thresh_arr):\n",
    "    best_ind = np.argmax(metrics['bal_acc'])\n",
    "    print(\"Threshold corresponding to Best balanced accuracy: {:6.4f}\".format(thresh_arr[best_ind]))\n",
    "    print(\"Best balanced accuracy: {:6.4f}\".format(metrics['bal_acc'][best_ind]))\n",
    "#     disp_imp_at_best_ind = np.abs(1 - np.array(metrics['disp_imp']))[best_ind]\n",
    "    disp_imp_at_best_ind = 1 - min(metrics['disp_imp'][best_ind], 1/metrics['disp_imp'][best_ind])\n",
    "    print(\"Corresponding 1-min(DI, 1/DI) value: {:6.4f}\".format(disp_imp_at_best_ind))\n",
    "    print(\"Corresponding average odds difference value: {:6.4f}\".format(metrics['avg_odds_diff'][best_ind]))\n",
    "    print(\"Corresponding statistical parity difference value: {:6.4f}\".format(metrics['stat_par_diff'][best_ind]))\n",
    "    print(\"Corresponding equal opportunity difference value: {:6.4f}\".format(metrics['eq_opp_diff'][best_ind]))"
   ]
  },
  {
   "cell_type": "markdown",
   "metadata": {},
   "source": [
    "## Disparate impact remover"
   ]
  },
  {
   "cell_type": "code",
   "execution_count": 106,
   "metadata": {},
   "outputs": [],
   "source": [
    "from aif360.datasets import BinaryLabelDataset"
   ]
  },
  {
   "cell_type": "code",
   "execution_count": 130,
   "metadata": {},
   "outputs": [],
   "source": [
    "di = DisparateImpactRemover(repair_level=1.0)\n",
    "rp_train = di.fit_transform(traindata)"
   ]
  },
  {
   "cell_type": "code",
   "execution_count": 125,
   "metadata": {},
   "outputs": [],
   "source": [
    "df = aif360.datasets.BinaryLabelDataset(favorable_label=0.0, unfavorable_label=1.0, df=train, \n",
    "                                                      label_names=[\"TARGET\"], \n",
    "                                                      protected_attribute_names=[\"IsYoung\"],\n",
    "                                                      privileged_protected_attributes = [0])"
   ]
  },
  {
   "cell_type": "code",
   "execution_count": 129,
   "metadata": {},
   "outputs": [],
   "source": [
    "model = PrejudiceRemover()\n",
    "prmodel = model.fit(df)"
   ]
  }
 ],
 "metadata": {
  "kernelspec": {
   "display_name": "Python 3",
   "language": "python",
   "name": "python3"
  },
  "language_info": {
   "codemirror_mode": {
    "name": "ipython",
    "version": 3
   },
   "file_extension": ".py",
   "mimetype": "text/x-python",
   "name": "python",
   "nbconvert_exporter": "python",
   "pygments_lexer": "ipython3",
   "version": "3.10.2"
  }
 },
 "nbformat": 4,
 "nbformat_minor": 2
}
